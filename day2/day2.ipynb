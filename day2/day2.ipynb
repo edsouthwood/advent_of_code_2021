{
 "cells": [
  {
   "cell_type": "code",
   "execution_count": 2,
   "metadata": {},
   "outputs": [],
   "source": [
    "with open(\"day2.txt\") as f:\n",
    "    lines = f.readlines()\n",
    "data = [l.strip('\\n') for l in lines]"
   ]
  },
  {
   "cell_type": "code",
   "execution_count": 5,
   "metadata": {},
   "outputs": [
    {
     "data": {
      "text/plain": [
       "['down', '3']"
      ]
     },
     "execution_count": 5,
     "metadata": {},
     "output_type": "execute_result"
    }
   ],
   "source": [
    "data[-2].split(' ')"
   ]
  },
  {
   "cell_type": "code",
   "execution_count": 7,
   "metadata": {},
   "outputs": [],
   "source": [
    "data = [d.split(' ') for d in data]"
   ]
  },
  {
   "cell_type": "code",
   "execution_count": 8,
   "metadata": {},
   "outputs": [
    {
     "data": {
      "text/plain": [
       "['forward', '6']"
      ]
     },
     "execution_count": 8,
     "metadata": {},
     "output_type": "execute_result"
    }
   ],
   "source": [
    "data[0]"
   ]
  },
  {
   "cell_type": "code",
   "execution_count": 10,
   "metadata": {},
   "outputs": [
    {
     "name": "stdout",
     "output_type": "stream",
     "text": [
      "1890 1172\n",
      "2215080\n"
     ]
    }
   ],
   "source": [
    "depth = 0\n",
    "hor = 0\n",
    "for d in data:\n",
    "    if d[0] == 'forward':\n",
    "        hor+=int(d[1])\n",
    "    elif d[0] == 'down':\n",
    "        depth += int(d[1])\n",
    "    else:\n",
    "        depth -= int(d[1])\n",
    "print(hor,depth)\n",
    "print(hor*depth)"
   ]
  },
  {
   "cell_type": "code",
   "execution_count": 12,
   "metadata": {},
   "outputs": [
    {
     "name": "stdout",
     "output_type": "stream",
     "text": [
      "1890 986622\n",
      "1864715580\n"
     ]
    }
   ],
   "source": [
    "depth = 0\n",
    "hor = 0\n",
    "aim = 0\n",
    "for d in data:\n",
    "    if d[0] == 'forward':\n",
    "        hor+=int(d[1])\n",
    "        depth += aim*int(d[1])\n",
    "    elif d[0] == 'down':\n",
    "        aim += int(d[1])\n",
    "    else:\n",
    "        aim -= int(d[1])\n",
    "print(hor,depth)\n",
    "print(hor*depth)"
   ]
  }
 ],
 "metadata": {
  "kernelspec": {
   "display_name": "Python 3",
   "language": "python",
   "name": "python3"
  },
  "language_info": {
   "codemirror_mode": {
    "name": "ipython",
    "version": 3
   },
   "file_extension": ".py",
   "mimetype": "text/x-python",
   "name": "python",
   "nbconvert_exporter": "python",
   "pygments_lexer": "ipython3",
   "version": "3.8.5"
  }
 },
 "nbformat": 4,
 "nbformat_minor": 4
}
