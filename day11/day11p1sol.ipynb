{
 "cells": [
  {
   "cell_type": "code",
   "execution_count": 2,
   "metadata": {},
   "outputs": [
    {
     "data": {
      "text/plain": [
       "[[5, 4, 8, 3, 1, 4, 3, 2, 2, 3],\n",
       " [2, 7, 4, 5, 8, 5, 4, 7, 1, 1],\n",
       " [5, 2, 6, 4, 5, 5, 6, 1, 7, 3],\n",
       " [6, 1, 4, 1, 3, 3, 6, 1, 4, 6],\n",
       " [6, 3, 5, 7, 3, 8, 5, 4, 7, 8],\n",
       " [4, 1, 6, 7, 5, 2, 4, 6, 4, 5],\n",
       " [2, 1, 7, 6, 8, 4, 1, 7, 2, 1],\n",
       " [6, 8, 8, 2, 8, 8, 1, 1, 3, 4],\n",
       " [4, 8, 4, 6, 8, 4, 8, 5, 5, 4],\n",
       " [5, 2, 8, 3, 7, 5, 1, 5, 2, 6]]"
      ]
     },
     "execution_count": 2,
     "metadata": {},
     "output_type": "execute_result"
    }
   ],
   "source": [
    "with open(\"toy_data.txt\") as f:\n",
    "    data = f.readlines()\n",
    "data = [d.strip('\\n') for d in data]\n",
    "data = [list(d) for d in data]\n",
    "data = [[int(i) for i in l] for l in data]\n",
    "data"
   ]
  },
  {
   "cell_type": "code",
   "execution_count": null,
   "metadata": {},
   "outputs": [],
   "source": [
    "def get_neighbour(y,x,data):\n",
    "    if y < 0 or x < 0:\n",
    "        return 10\n",
    "    elif x > len(data[0])-1 or y > len(data)-1:\n",
    "        return 10\n",
    "    else:\n",
    "        return data[y][x]"
   ]
  },
  {
   "cell_type": "code",
   "execution_count": 11,
   "metadata": {},
   "outputs": [],
   "source": [
    "def increment_neighbours(point, data):\n",
    "    for y in [point[0]-1, point[0], point[0]+1]:\n",
    "        for x in [point[1]-1, point[1], point[1]+1]:\n",
    "            #check for negative indices (outside of board up and left)\n",
    "            if y < 0 or x < 0:\n",
    "                pass\n",
    "            #check of too big indices (outside right and down)\n",
    "            elif x > len(data[0])-1 or y > len(data)-1:\n",
    "                pass\n",
    "            #dont increment self\n",
    "            elif point == [y,x]:\n",
    "                pass\n",
    "            else:\n",
    "                print(y,x)"
   ]
  },
  {
   "cell_type": "code",
   "execution_count": 13,
   "metadata": {},
   "outputs": [],
   "source": [
    "def increment_array(data):\n",
    "    output = data\n",
    "    for y in range(len(data)):\n",
    "        for x in range(len(data[0])):\n",
    "            output[y][x] += 1\n",
    "    return output"
   ]
  },
  {
   "cell_type": "code",
   "execution_count": 14,
   "metadata": {},
   "outputs": [
    {
     "data": {
      "text/plain": [
       "[[5, 4, 8, 3, 1, 4, 3, 2, 2, 3],\n",
       " [2, 7, 4, 5, 8, 5, 4, 7, 1, 1],\n",
       " [5, 2, 6, 4, 5, 5, 6, 1, 7, 3],\n",
       " [6, 1, 4, 1, 3, 3, 6, 1, 4, 6],\n",
       " [6, 3, 5, 7, 3, 8, 5, 4, 7, 8],\n",
       " [4, 1, 6, 7, 5, 2, 4, 6, 4, 5],\n",
       " [2, 1, 7, 6, 8, 4, 1, 7, 2, 1],\n",
       " [6, 8, 8, 2, 8, 8, 1, 1, 3, 4],\n",
       " [4, 8, 4, 6, 8, 4, 8, 5, 5, 4],\n",
       " [5, 2, 8, 3, 7, 5, 1, 5, 2, 6]]"
      ]
     },
     "execution_count": 14,
     "metadata": {},
     "output_type": "execute_result"
    }
   ],
   "source": [
    "data"
   ]
  },
  {
   "cell_type": "code",
   "execution_count": 15,
   "metadata": {},
   "outputs": [
    {
     "data": {
      "text/plain": [
       "[[6, 5, 9, 4, 2, 5, 4, 3, 3, 4],\n",
       " [3, 8, 5, 6, 9, 6, 5, 8, 2, 2],\n",
       " [6, 3, 7, 5, 6, 6, 7, 2, 8, 4],\n",
       " [7, 2, 5, 2, 4, 4, 7, 2, 5, 7],\n",
       " [7, 4, 6, 8, 4, 9, 6, 5, 8, 9],\n",
       " [5, 2, 7, 8, 6, 3, 5, 7, 5, 6],\n",
       " [3, 2, 8, 7, 9, 5, 2, 8, 3, 2],\n",
       " [7, 9, 9, 3, 9, 9, 2, 2, 4, 5],\n",
       " [5, 9, 5, 7, 9, 5, 9, 6, 6, 5],\n",
       " [6, 3, 9, 4, 8, 6, 2, 6, 3, 7]]"
      ]
     },
     "execution_count": 15,
     "metadata": {},
     "output_type": "execute_result"
    }
   ],
   "source": [
    "d2 = increment_array(data)\n",
    "d2"
   ]
  },
  {
   "cell_type": "code",
   "execution_count": 12,
   "metadata": {},
   "outputs": [
    {
     "name": "stdout",
     "output_type": "stream",
     "text": [
      "8 8\n",
      "8 9\n",
      "9 8\n"
     ]
    }
   ],
   "source": [
    "point = [9,9]\n",
    "increment_neighbours(point,data)"
   ]
  }
 ],
 "metadata": {
  "kernelspec": {
   "display_name": "Python 3",
   "language": "python",
   "name": "python3"
  },
  "language_info": {
   "codemirror_mode": {
    "name": "ipython",
    "version": 3
   },
   "file_extension": ".py",
   "mimetype": "text/x-python",
   "name": "python",
   "nbconvert_exporter": "python",
   "pygments_lexer": "ipython3",
   "version": "3.8.5"
  }
 },
 "nbformat": 4,
 "nbformat_minor": 4
}
