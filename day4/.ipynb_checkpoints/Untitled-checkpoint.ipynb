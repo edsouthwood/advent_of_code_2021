{
 "cells": [
  {
   "cell_type": "code",
   "execution_count": 7,
   "metadata": {},
   "outputs": [
    {
     "data": {
      "text/plain": [
       "['22 13 17 11  0',\n",
       " ' 8  2 23  4 24',\n",
       " '21  9 14 16  7',\n",
       " ' 6 10  3 18  5',\n",
       " ' 1 12 20 15 19',\n",
       " '',\n",
       " ' 3 15  0  2 22',\n",
       " ' 9 18 13 17  5',\n",
       " '19  8  7 25 23',\n",
       " '20 11 10 24  4',\n",
       " '14 21 16 12  6',\n",
       " '',\n",
       " '14 21 17 24  4',\n",
       " '10 16 15  9 19',\n",
       " '18  8 23 26 20',\n",
       " '22 11 13  6  5',\n",
       " ' 2  0 12  3  7']"
      ]
     },
     "execution_count": 7,
     "metadata": {},
     "output_type": "execute_result"
    }
   ],
   "source": [
    "with open('toy_board.txt') as f:\n",
    "    lines = f.readlines()\n",
    "data = [l.strip('\\n') for l in lines]\n",
    "data"
   ]
  },
  {
   "cell_type": "code",
   "execution_count": 19,
   "metadata": {},
   "outputs": [
    {
     "ename": "SyntaxError",
     "evalue": "invalid syntax (<ipython-input-19-ad74f498e88c>, line 8)",
     "output_type": "error",
     "traceback": [
      "\u001b[0;36m  File \u001b[0;32m\"<ipython-input-19-ad74f498e88c>\"\u001b[0;36m, line \u001b[0;32m8\u001b[0m\n\u001b[0;31m    board += [l for l in line.split(' ') if l not None]\u001b[0m\n\u001b[0m                                                  ^\u001b[0m\n\u001b[0;31mSyntaxError\u001b[0m\u001b[0;31m:\u001b[0m invalid syntax\n"
     ]
    }
   ],
   "source": [
    "boards = []\n",
    "board = []\n",
    "for line in data:\n",
    "    if line == '':\n",
    "        boards += [board]\n",
    "        board = []\n",
    "    else:\n",
    "        board += [l for l in line.split(' ') if l not None]\n",
    "boards += [board]"
   ]
  },
  {
   "cell_type": "code",
   "execution_count": 17,
   "metadata": {},
   "outputs": [
    {
     "data": {
      "text/plain": [
       "[[['22', '13', '17', '11', '', '0'],\n",
       "  ['', '8', '', '2', '23', '', '4', '24'],\n",
       "  ['21', '', '9', '14', '16', '', '7'],\n",
       "  ['', '6', '10', '', '3', '18', '', '5'],\n",
       "  ['', '1', '12', '20', '15', '19']],\n",
       " [['', '3', '15', '', '0', '', '2', '22'],\n",
       "  ['', '9', '18', '13', '17', '', '5'],\n",
       "  ['19', '', '8', '', '7', '25', '23'],\n",
       "  ['20', '11', '10', '24', '', '4'],\n",
       "  ['14', '21', '16', '12', '', '6']],\n",
       " [['14', '21', '17', '24', '', '4'],\n",
       "  ['10', '16', '15', '', '9', '19'],\n",
       "  ['18', '', '8', '23', '26', '20'],\n",
       "  ['22', '11', '13', '', '6', '', '5'],\n",
       "  ['', '2', '', '0', '12', '', '3', '', '7']]]"
      ]
     },
     "execution_count": 17,
     "metadata": {},
     "output_type": "execute_result"
    }
   ],
   "source": [
    "boards"
   ]
  }
 ],
 "metadata": {
  "kernelspec": {
   "display_name": "Python 3",
   "language": "python",
   "name": "python3"
  },
  "language_info": {
   "codemirror_mode": {
    "name": "ipython",
    "version": 3
   },
   "file_extension": ".py",
   "mimetype": "text/x-python",
   "name": "python",
   "nbconvert_exporter": "python",
   "pygments_lexer": "ipython3",
   "version": "3.8.5"
  }
 },
 "nbformat": 4,
 "nbformat_minor": 4
}
