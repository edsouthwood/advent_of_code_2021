{
 "cells": [
  {
   "cell_type": "code",
   "execution_count": 57,
   "metadata": {},
   "outputs": [],
   "source": [
    "with open(\"data.txt\") as f:\n",
    "    data = f.readlines()\n",
    "data = [d.strip('\\n') for d in data]\n",
    "data = [[d.split(' | ')[0],d.split(' | ')[1]] for d in data]\n",
    "#data\n",
    "# data is a list of pairs of lists containing key and code"
   ]
  },
  {
   "cell_type": "code",
   "execution_count": 13,
   "metadata": {},
   "outputs": [
    {
     "name": "stdout",
     "output_type": "stream",
     "text": [
      "318\n"
     ]
    }
   ],
   "source": [
    "# solve part one\n",
    "count = 0\n",
    "for d in data:\n",
    "    for num in d[1].split(\" \"):\n",
    "        if len(num) in [2,3,4,7]:\n",
    "            count +=1\n",
    "    #print(\"output \", d[1].split(\" \"))\n",
    "print(count)"
   ]
  },
  {
   "cell_type": "code",
   "execution_count": 52,
   "metadata": {},
   "outputs": [],
   "source": [
    "# make a dictionary to decode from \n",
    "def make_dictionary(data):\n",
    "    data = data.split(' ')\n",
    "    keys = [1,4,7,8]\n",
    "    dictionary = dict.fromkeys(keys)\n",
    "    for d in data:\n",
    "        if len(d) == 2:\n",
    "            dictionary[1] = set(list(d))\n",
    "        elif len(d) == 3:\n",
    "            dictionary[7] = set(list(d))\n",
    "        elif len(d) == 4:\n",
    "            dictionary[4] = set(list(d))\n",
    "        elif len(d) == 7:\n",
    "            dictionary[8] = set(list(d))\n",
    "    return dictionary"
   ]
  },
  {
   "cell_type": "code",
   "execution_count": 54,
   "metadata": {},
   "outputs": [],
   "source": [
    "# decode message based on dictionary\n",
    "def decode(message, dictionary):\n",
    "    result = ''\n",
    "    message = message.split(' ')\n",
    "    for number in message:\n",
    "        # only calc length once\n",
    "        length = len(number)\n",
    "        # turn letters into a set\n",
    "        num_set = set(list(number))\n",
    "        # see tree diagram for logic\n",
    "        if length == 2:\n",
    "            result += '1'\n",
    "        elif length == 3:\n",
    "            result += '7'\n",
    "        elif length == 4:\n",
    "            result += '4'\n",
    "        elif length == 7:\n",
    "            result += '8'\n",
    "        elif length == 5:\n",
    "            if dictionary[1] < num_set:\n",
    "                result += '3'\n",
    "            else:\n",
    "                if (dictionary[4] - dictionary[1]) < num_set:\n",
    "                    result += '5'\n",
    "                else:\n",
    "                    result += '2'\n",
    "        else:\n",
    "            if dictionary[1] < num_set:\n",
    "                if dictionary[4] < num_set:\n",
    "                    result += '9'\n",
    "                else:\n",
    "                    result += '0'\n",
    "            else:\n",
    "                result += '6'\n",
    "    return result"
   ]
  },
  {
   "cell_type": "code",
   "execution_count": 58,
   "metadata": {},
   "outputs": [
    {
     "data": {
      "text/plain": [
       "996280"
      ]
     },
     "execution_count": 58,
     "metadata": {},
     "output_type": "execute_result"
    }
   ],
   "source": [
    "# run through all messages and add total\n",
    "count = 0\n",
    "for d in data:\n",
    "    dictionary = make_dictionary(d[0])\n",
    "    message = decode(d[1],dictionary)\n",
    "    count += int(message)\n",
    "count"
   ]
  },
  {
   "cell_type": "markdown",
   "metadata": {},
   "source": [
    "![pic](img/1.JPG)\n",
    "![pic](img/2.JPG)\n",
    "![pic](img/3.JPG)"
   ]
  }
 ],
 "metadata": {
  "kernelspec": {
   "display_name": "Python 3",
   "language": "python",
   "name": "python3"
  },
  "language_info": {
   "codemirror_mode": {
    "name": "ipython",
    "version": 3
   },
   "file_extension": ".py",
   "mimetype": "text/x-python",
   "name": "python",
   "nbconvert_exporter": "python",
   "pygments_lexer": "ipython3",
   "version": "3.8.5"
  }
 },
 "nbformat": 4,
 "nbformat_minor": 4
}
