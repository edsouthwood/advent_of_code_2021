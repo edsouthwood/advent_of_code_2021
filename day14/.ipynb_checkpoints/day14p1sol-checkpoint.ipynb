{
 "cells": [
  {
   "cell_type": "code",
   "execution_count": 1,
   "metadata": {},
   "outputs": [
    {
     "name": "stdout",
     "output_type": "stream",
     "text": [
      "['ONSVVHNCFVBHKVPCHCPV']\n",
      "['VO -> C', 'VV -> S', 'HK -> H', 'FC -> C', 'VB -> V', 'NO -> H', 'BN -> B', 'FP -> K', 'CS -> C', 'HC -> S', 'FS -> K', 'KH -> V', 'CH -> H', 'BP -> K', 'OF -> K', 'SS -> F', 'SP -> C', 'PN -> O', 'CK -> K', 'KS -> H', 'HO -> K', 'FV -> F', 'SN -> P', 'HN -> O', 'KK -> H', 'KP -> O', 'CN -> N', 'BO -> C', 'CC -> H', 'PB -> F', 'PV -> K', 'BV -> K', 'PP -> H', 'KB -> F', 'NC -> F', 'PC -> V', 'FN -> N', 'NH -> B', 'CF -> V', 'PO -> F', 'KC -> S', 'VP -> P', 'HH -> N', 'OB -> O', 'KN -> O', 'PS -> N', 'SF -> V', 'VK -> F', 'CO -> N', 'KF -> B', 'VC -> C', 'SH -> S', 'HV -> V', 'FK -> O', 'NV -> N', 'SC -> O', 'BK -> F', 'BB -> K', 'HF -> K', 'OC -> O', 'KO -> V', 'OS -> P', 'FF -> O', 'PH -> F', 'FB -> O', 'NN -> C', 'NK -> C', 'HP -> B', 'PF -> H', 'PK -> C', 'NP -> O', 'NS -> V', 'CV -> O', 'VH -> C', 'OP -> N', 'SO -> O', 'SK -> H', 'SV -> O', 'NF -> H', 'BS -> K', 'BH -> O', 'VN -> S', 'HB -> O', 'OH -> K', 'CB -> B', 'BC -> S', 'OV -> F', 'BF -> P', 'OO -> F', 'HS -> H', 'ON -> P', 'NB -> F', 'CP -> S', 'SB -> V', 'VF -> C', 'OK -> O', 'FH -> H', 'KV -> S', 'FO -> C', 'VS -> B']\n"
     ]
    }
   ],
   "source": [
    "inpt = []\n",
    "raw_rules = []\n",
    "with open(\"data.txt\") as f:\n",
    "    toggle = True\n",
    "    for line in f:\n",
    "        if line == '\\n':\n",
    "            toggle = False\n",
    "        if toggle:\n",
    "            inpt += [line.strip('\\n')]\n",
    "        else:\n",
    "            if line == '\\n':\n",
    "                pass\n",
    "            else:\n",
    "                raw_rules += [line.strip('\\n')]\n",
    "print(inpt)\n",
    "print(raw_rules)"
   ]
  },
  {
   "cell_type": "code",
   "execution_count": 2,
   "metadata": {},
   "outputs": [
    {
     "data": {
      "text/plain": [
       "{'VO': 'C',\n",
       " 'VV': 'S',\n",
       " 'HK': 'H',\n",
       " 'FC': 'C',\n",
       " 'VB': 'V',\n",
       " 'NO': 'H',\n",
       " 'BN': 'B',\n",
       " 'FP': 'K',\n",
       " 'CS': 'C',\n",
       " 'HC': 'S',\n",
       " 'FS': 'K',\n",
       " 'KH': 'V',\n",
       " 'CH': 'H',\n",
       " 'BP': 'K',\n",
       " 'OF': 'K',\n",
       " 'SS': 'F',\n",
       " 'SP': 'C',\n",
       " 'PN': 'O',\n",
       " 'CK': 'K',\n",
       " 'KS': 'H',\n",
       " 'HO': 'K',\n",
       " 'FV': 'F',\n",
       " 'SN': 'P',\n",
       " 'HN': 'O',\n",
       " 'KK': 'H',\n",
       " 'KP': 'O',\n",
       " 'CN': 'N',\n",
       " 'BO': 'C',\n",
       " 'CC': 'H',\n",
       " 'PB': 'F',\n",
       " 'PV': 'K',\n",
       " 'BV': 'K',\n",
       " 'PP': 'H',\n",
       " 'KB': 'F',\n",
       " 'NC': 'F',\n",
       " 'PC': 'V',\n",
       " 'FN': 'N',\n",
       " 'NH': 'B',\n",
       " 'CF': 'V',\n",
       " 'PO': 'F',\n",
       " 'KC': 'S',\n",
       " 'VP': 'P',\n",
       " 'HH': 'N',\n",
       " 'OB': 'O',\n",
       " 'KN': 'O',\n",
       " 'PS': 'N',\n",
       " 'SF': 'V',\n",
       " 'VK': 'F',\n",
       " 'CO': 'N',\n",
       " 'KF': 'B',\n",
       " 'VC': 'C',\n",
       " 'SH': 'S',\n",
       " 'HV': 'V',\n",
       " 'FK': 'O',\n",
       " 'NV': 'N',\n",
       " 'SC': 'O',\n",
       " 'BK': 'F',\n",
       " 'BB': 'K',\n",
       " 'HF': 'K',\n",
       " 'OC': 'O',\n",
       " 'KO': 'V',\n",
       " 'OS': 'P',\n",
       " 'FF': 'O',\n",
       " 'PH': 'F',\n",
       " 'FB': 'O',\n",
       " 'NN': 'C',\n",
       " 'NK': 'C',\n",
       " 'HP': 'B',\n",
       " 'PF': 'H',\n",
       " 'PK': 'C',\n",
       " 'NP': 'O',\n",
       " 'NS': 'V',\n",
       " 'CV': 'O',\n",
       " 'VH': 'C',\n",
       " 'OP': 'N',\n",
       " 'SO': 'O',\n",
       " 'SK': 'H',\n",
       " 'SV': 'O',\n",
       " 'NF': 'H',\n",
       " 'BS': 'K',\n",
       " 'BH': 'O',\n",
       " 'VN': 'S',\n",
       " 'HB': 'O',\n",
       " 'OH': 'K',\n",
       " 'CB': 'B',\n",
       " 'BC': 'S',\n",
       " 'OV': 'F',\n",
       " 'BF': 'P',\n",
       " 'OO': 'F',\n",
       " 'HS': 'H',\n",
       " 'ON': 'P',\n",
       " 'NB': 'F',\n",
       " 'CP': 'S',\n",
       " 'SB': 'V',\n",
       " 'VF': 'C',\n",
       " 'OK': 'O',\n",
       " 'FH': 'H',\n",
       " 'KV': 'S',\n",
       " 'FO': 'C',\n",
       " 'VS': 'B'}"
      ]
     },
     "execution_count": 2,
     "metadata": {},
     "output_type": "execute_result"
    }
   ],
   "source": [
    "rules = dict()\n",
    "for rule in raw_rules:\n",
    "    rule = rule.split(' -> ')\n",
    "    rules[rule[0]]= rule[1]\n",
    "rules"
   ]
  },
  {
   "cell_type": "code",
   "execution_count": 3,
   "metadata": {},
   "outputs": [],
   "source": [
    "def tick(iput):\n",
    "    new_string = \"\"\n",
    "    for x in range(len(iput)-1):\n",
    "        #print(iput[x:x+2])\n",
    "        insert = rules[iput[x:x+2]]\n",
    "        #print(insert)\n",
    "        new_string += iput[x]+insert\n",
    "    new_string += iput[-1]\n",
    "    return new_string"
   ]
  },
  {
   "cell_type": "code",
   "execution_count": 4,
   "metadata": {},
   "outputs": [],
   "source": [
    "i = inpt[0]\n",
    "for t in range(10):\n",
    "    #print(i)\n",
    "    i = tick(i)\n",
    "#print(i)"
   ]
  },
  {
   "cell_type": "code",
   "execution_count": null,
   "metadata": {},
   "outputs": [],
   "source": []
  },
  {
   "cell_type": "code",
   "execution_count": 5,
   "metadata": {},
   "outputs": [
    {
     "data": {
      "text/plain": [
       "{'H': 0,\n",
       " 'V': 0,\n",
       " 'O': 0,\n",
       " 'B': 0,\n",
       " 'N': 0,\n",
       " 'K': 0,\n",
       " 'F': 0,\n",
       " 'S': 0,\n",
       " 'P': 0,\n",
       " 'C': 0}"
      ]
     },
     "execution_count": 5,
     "metadata": {},
     "output_type": "execute_result"
    }
   ],
   "source": [
    "#make a dictionary of unquie letteers in final string\n",
    "counts = dict()\n",
    "for letter in list(set([l for l in i])):\n",
    "    counts[letter] = 0\n",
    "counts"
   ]
  },
  {
   "cell_type": "code",
   "execution_count": 6,
   "metadata": {},
   "outputs": [
    {
     "data": {
      "text/plain": [
       "{'H': 3419,\n",
       " 'V': 541,\n",
       " 'O': 3800,\n",
       " 'B': 1312,\n",
       " 'N': 2529,\n",
       " 'K': 1623,\n",
       " 'F': 2228,\n",
       " 'S': 639,\n",
       " 'P': 892,\n",
       " 'C': 2474}"
      ]
     },
     "execution_count": 6,
     "metadata": {},
     "output_type": "execute_result"
    }
   ],
   "source": [
    "#count occurences\n",
    "for l in i:\n",
    "    counts[l] += 1\n",
    "counts"
   ]
  },
  {
   "cell_type": "code",
   "execution_count": 7,
   "metadata": {},
   "outputs": [
    {
     "name": "stdout",
     "output_type": "stream",
     "text": [
      "H 3419\n",
      "V 541\n",
      "O 3800\n",
      "B 1312\n",
      "N 2529\n",
      "K 1623\n",
      "F 2228\n",
      "S 639\n",
      "P 892\n",
      "C 2474\n",
      "541 3800\n",
      "3259\n"
     ]
    }
   ],
   "source": [
    "minimum = 999999\n",
    "maximum = 0\n",
    "for key, value in counts.items():\n",
    "    if value > maximum:\n",
    "        maximum = value\n",
    "    if value < minimum:\n",
    "        minimum = value\n",
    "    print(key,value)\n",
    "print(minimum, maximum)\n",
    "print(maximum - minimum)"
   ]
  }
 ],
 "metadata": {
  "kernelspec": {
   "display_name": "Python 3",
   "language": "python",
   "name": "python3"
  },
  "language_info": {
   "codemirror_mode": {
    "name": "ipython",
    "version": 3
   },
   "file_extension": ".py",
   "mimetype": "text/x-python",
   "name": "python",
   "nbconvert_exporter": "python",
   "pygments_lexer": "ipython3",
   "version": "3.9.5"
  }
 },
 "nbformat": 4,
 "nbformat_minor": 4
}
