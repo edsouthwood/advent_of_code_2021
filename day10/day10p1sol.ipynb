{
 "cells": [
  {
   "cell_type": "code",
   "execution_count": 39,
   "metadata": {},
   "outputs": [],
   "source": [
    "with open(\"data.txt\") as f:\n",
    "    data = f.readlines()\n",
    "data = [d.strip(\"\\n\") for d in data]\n",
    "#data"
   ]
  },
  {
   "cell_type": "code",
   "execution_count": 10,
   "metadata": {},
   "outputs": [
    {
     "data": {
      "text/plain": [
       "{'(': ')', '<': '>', '[': ']', '{': '}'}"
      ]
     },
     "execution_count": 10,
     "metadata": {},
     "output_type": "execute_result"
    }
   ],
   "source": [
    "sym = {'(':')', '<':'>', '[':']', '{':'}'}\n",
    "sym"
   ]
  },
  {
   "cell_type": "code",
   "execution_count": 15,
   "metadata": {},
   "outputs": [
    {
     "data": {
      "text/plain": [
       "{'(', '<', '[', '{'}"
      ]
     },
     "execution_count": 15,
     "metadata": {},
     "output_type": "execute_result"
    }
   ],
   "source": [
    "sym_open = set(['(','<','[','{'])\n",
    "sym_open"
   ]
  },
  {
   "cell_type": "code",
   "execution_count": 36,
   "metadata": {},
   "outputs": [],
   "source": [
    "def check_line(data):\n",
    "    sym_open = set(['(','<','[','{'])\n",
    "    sym_value = {')':3,']':57,'}':1197,'>':25137}\n",
    "    expect = []\n",
    "    #print(data)\n",
    "    for s in data:\n",
    "        if not (set(s) < sym_open):\n",
    "            #print(\"s =\",s,\"expect \",expect[-1])\n",
    "            if s == expect[-1]:\n",
    "                expect.pop()\n",
    "                pass\n",
    "            else:\n",
    "                print(\"expected: \", expect[-1], \"found: \",s)\n",
    "                return sym_value[s]\n",
    "                break\n",
    "        if (set(s) < sym_open):\n",
    "            expect.append(sym[s])\n",
    "    return 0"
   ]
  },
  {
   "cell_type": "code",
   "execution_count": 40,
   "metadata": {},
   "outputs": [
    {
     "name": "stdout",
     "output_type": "stream",
     "text": [
      "expected:  ) found:  >\n",
      "expected:  } found:  >\n",
      "expected:  } found:  >\n",
      "expected:  } found:  ]\n",
      "expected:  > found:  }\n",
      "expected:  ] found:  }\n",
      "expected:  ) found:  >\n",
      "expected:  ] found:  )\n",
      "expected:  > found:  }\n",
      "expected:  > found:  ]\n",
      "expected:  ) found:  }\n",
      "expected:  ) found:  >\n",
      "expected:  > found:  }\n",
      "expected:  > found:  }\n",
      "expected:  ] found:  }\n",
      "expected:  > found:  )\n",
      "expected:  ] found:  }\n",
      "expected:  } found:  >\n",
      "expected:  > found:  )\n",
      "expected:  > found:  }\n",
      "expected:  ] found:  >\n",
      "expected:  ) found:  ]\n",
      "expected:  } found:  )\n",
      "expected:  } found:  >\n",
      "expected:  > found:  }\n",
      "expected:  ) found:  ]\n",
      "expected:  ] found:  )\n",
      "expected:  > found:  ]\n",
      "expected:  ) found:  }\n",
      "expected:  ) found:  }\n",
      "expected:  ) found:  }\n",
      "expected:  ) found:  ]\n",
      "expected:  } found:  >\n",
      "expected:  ] found:  }\n",
      "expected:  } found:  >\n",
      "expected:  } found:  ]\n",
      "expected:  > found:  }\n",
      "expected:  > found:  }\n",
      "expected:  ] found:  )\n",
      "expected:  } found:  >\n",
      "expected:  ] found:  }\n",
      "expected:  } found:  )\n",
      "expected:  } found:  >\n",
      "expected:  > found:  )\n",
      "expected:  ] found:  }\n",
      "323613\n"
     ]
    }
   ],
   "source": [
    "total = 0\n",
    "for line in data:\n",
    "    total += check_line(line)\n",
    "print(total)"
   ]
  }
 ],
 "metadata": {
  "kernelspec": {
   "display_name": "Python 3",
   "language": "python",
   "name": "python3"
  },
  "language_info": {
   "codemirror_mode": {
    "name": "ipython",
    "version": 3
   },
   "file_extension": ".py",
   "mimetype": "text/x-python",
   "name": "python",
   "nbconvert_exporter": "python",
   "pygments_lexer": "ipython3",
   "version": "3.8.5"
  }
 },
 "nbformat": 4,
 "nbformat_minor": 4
}
