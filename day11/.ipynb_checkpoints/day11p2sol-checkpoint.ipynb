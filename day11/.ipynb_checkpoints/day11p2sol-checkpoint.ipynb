{
 "cells": [
  {
   "cell_type": "code",
   "execution_count": 10,
   "metadata": {},
   "outputs": [
    {
     "data": {
      "text/plain": [
       "[[2, 3, 4, 4, 6, 7, 1, 2, 1, 2],\n",
       " [6, 6, 1, 1, 7, 4, 2, 6, 8, 1],\n",
       " [5, 5, 7, 5, 5, 7, 5, 5, 7, 3],\n",
       " [3, 1, 6, 7, 8, 4, 8, 5, 3, 6],\n",
       " [1, 3, 5, 3, 8, 2, 7, 3, 1, 1],\n",
       " [4, 4, 1, 6, 4, 6, 3, 2, 6, 6],\n",
       " [2, 6, 2, 4, 7, 6, 1, 6, 1, 5],\n",
       " [1, 7, 8, 6, 5, 6, 1, 2, 6, 3],\n",
       " [3, 6, 2, 2, 6, 4, 3, 2, 1, 5],\n",
       " [4, 1, 4, 3, 2, 8, 4, 6, 5, 3]]"
      ]
     },
     "execution_count": 10,
     "metadata": {},
     "output_type": "execute_result"
    }
   ],
   "source": [
    "with open(\"data.txt\") as f:\n",
    "    data = f.readlines()\n",
    "data = [d.strip('\\n') for d in data]\n",
    "data = [list(d) for d in data]\n",
    "data = [[int(i) for i in l] for l in data]\n",
    "data"
   ]
  },
  {
   "cell_type": "code",
   "execution_count": null,
   "metadata": {},
   "outputs": [],
   "source": []
  },
  {
   "cell_type": "code",
   "execution_count": 2,
   "metadata": {},
   "outputs": [],
   "source": [
    "def increment_neighbours(point, data):\n",
    "    #print(\"point[0] = \",point[0])\n",
    "    for y in [point[0]-1, point[0], point[0]+1]:\n",
    "        for x in [point[1]-1, point[1], point[1]+1]:\n",
    "            #check for negative indices (outside of board up and left)\n",
    "            if y < 0 or x < 0:\n",
    "                pass\n",
    "            #check of too big indices (outside right and down)\n",
    "            elif x > len(data[0])-1 or y > len(data)-1:\n",
    "                pass\n",
    "            #dont increment self\n",
    "            elif point == [y,x]:\n",
    "                pass\n",
    "            else:\n",
    "                data[y][x] += 1\n",
    "    return data"
   ]
  },
  {
   "cell_type": "code",
   "execution_count": 3,
   "metadata": {},
   "outputs": [],
   "source": [
    "def increment_array(data):\n",
    "    output = data\n",
    "    for y in range(len(data)):\n",
    "        for x in range(len(data[0])):\n",
    "            output[y][x] += 1\n",
    "    return output"
   ]
  },
  {
   "cell_type": "code",
   "execution_count": 4,
   "metadata": {},
   "outputs": [],
   "source": [
    "def check_for_flashers(data):\n",
    "    flashers = []\n",
    "    for y in range(len(data)):\n",
    "        for x in range(len(data[0])):\n",
    "            if data[y][x] > 9:\n",
    "                flashers.append([y,x])\n",
    "    #print(\"flashers \",flashers)\n",
    "    return flashers"
   ]
  },
  {
   "cell_type": "code",
   "execution_count": 5,
   "metadata": {},
   "outputs": [],
   "source": [
    "def count_flashed(data):\n",
    "    count = 0\n",
    "    for y in range(len(data)):\n",
    "        for x in range(len(data[0])):\n",
    "            if data[y][x] == 0:\n",
    "                count += 1\n",
    "    #print(\"flashers \",flashers)\n",
    "    return count"
   ]
  },
  {
   "cell_type": "code",
   "execution_count": 6,
   "metadata": {},
   "outputs": [],
   "source": [
    "def reset_flashers(data):\n",
    "    for y in range(len(data)):\n",
    "        for x in range(len(data[0])):\n",
    "            if data[y][x] > 9:\n",
    "                data[y][x] = 0\n",
    "    return data"
   ]
  },
  {
   "cell_type": "code",
   "execution_count": 7,
   "metadata": {},
   "outputs": [],
   "source": [
    "def super_remove(point, lst):\n",
    "    keep_going = True\n",
    "    while keep_going:\n",
    "        try:\n",
    "            lst.remove(point)\n",
    "        except:\n",
    "            keep_going = False\n",
    "    return lst"
   ]
  },
  {
   "cell_type": "code",
   "execution_count": 8,
   "metadata": {},
   "outputs": [],
   "source": [
    "def tick(data):\n",
    "    data = increment_array(data)\n",
    "    flashers = check_for_flashers(data)\n",
    "    flashed = []\n",
    "    while len(flashers) > 0:\n",
    "        for f in flashers:\n",
    "            if f in flashed:\n",
    "                pass\n",
    "            else:\n",
    "                #print(\"f =\",f)\n",
    "                data = increment_neighbours(f,data)\n",
    "                flashers = super_remove(f,flashers)\n",
    "                flashed.append(f)\n",
    "                #print(\"flashed\",flashed)\n",
    "        extra_flashers = check_for_flashers(data)\n",
    "        \"\"\"flshrs = set(flashers)\n",
    "        xtra_flshrs = set(extra_flashers)\n",
    "        extra_flashers = list(xtra_flshrs - flshrs)\"\"\"\n",
    "        for fl in flashed:\n",
    "            try:\n",
    "                extra_flashers = super_remove(fl, extra_flashers)\n",
    "                #flshrs = set(flashers)\n",
    "                #xtra_flshrs = set(extra_flashers)\n",
    "                #extra_flashers = list(xtra_flshrs - flshrs)\n",
    "            except:\n",
    "                pass\n",
    "        try:\n",
    "            flashers += extra_flashers\n",
    "        except:\n",
    "            pass\n",
    "    data = reset_flashers(data)\n",
    "    count = count_flashed(data)\n",
    "    return data, count"
   ]
  },
  {
   "cell_type": "code",
   "execution_count": 11,
   "metadata": {},
   "outputs": [
    {
     "name": "stdout",
     "output_type": "stream",
     "text": [
      "237\n"
     ]
    }
   ],
   "source": [
    "# keep going until the count is equal to the whole board\n",
    "count = 0\n",
    "step = 0\n",
    "while count < 100:\n",
    "    data, tick_count = tick(data)\n",
    "    count = tick_count\n",
    "    step += 1\n",
    "    #print(count)\n",
    "print(step)"
   ]
  }
 ],
 "metadata": {
  "kernelspec": {
   "display_name": "Python 3",
   "language": "python",
   "name": "python3"
  },
  "language_info": {
   "codemirror_mode": {
    "name": "ipython",
    "version": 3
   },
   "file_extension": ".py",
   "mimetype": "text/x-python",
   "name": "python",
   "nbconvert_exporter": "python",
   "pygments_lexer": "ipython3",
   "version": "3.9.5"
  }
 },
 "nbformat": 4,
 "nbformat_minor": 4
}
