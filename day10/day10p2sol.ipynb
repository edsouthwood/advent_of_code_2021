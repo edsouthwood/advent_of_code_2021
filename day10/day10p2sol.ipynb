{
 "cells": [
  {
   "cell_type": "code",
   "execution_count": 15,
   "metadata": {},
   "outputs": [],
   "source": [
    "with open(\"data.txt\") as f:\n",
    "    data = f.readlines()\n",
    "data = [d.strip(\"\\n\") for d in data]\n",
    "#data"
   ]
  },
  {
   "cell_type": "code",
   "execution_count": null,
   "metadata": {},
   "outputs": [],
   "source": [
    "sym = {'(':')', '<':'>', '[':']', '{':'}'}\n",
    "sym"
   ]
  },
  {
   "cell_type": "code",
   "execution_count": null,
   "metadata": {},
   "outputs": [],
   "source": [
    "sym_open = set(['(','<','[','{'])\n",
    "sym_open"
   ]
  },
  {
   "cell_type": "code",
   "execution_count": 17,
   "metadata": {},
   "outputs": [],
   "source": [
    "def check_line(data):\n",
    "    sym = {'(':')', '<':'>', '[':']', '{':'}'}\n",
    "    sym_open = set(['(','<','[','{'])\n",
    "    sym_value = {')':3,']':57,'}':1197,'>':25137}\n",
    "    expect = []\n",
    "    #print(data)\n",
    "    for s in data:\n",
    "        if not (set(s) < sym_open):\n",
    "            #print(\"s =\",s,\"expect \",expect[-1])\n",
    "            if s == expect[-1]:\n",
    "                expect.pop()\n",
    "                pass\n",
    "            else:\n",
    "                #print(\"expected: \", expect[-1], \"found: \",s)\n",
    "                return 0#sym_value[s]\n",
    "                break\n",
    "        if (set(s) < sym_open):\n",
    "            expect.append(sym[s])\n",
    "    return 1"
   ]
  },
  {
   "cell_type": "code",
   "execution_count": 18,
   "metadata": {},
   "outputs": [],
   "source": [
    "keepers = []\n",
    "for line in data:\n",
    "    if check_line(line):\n",
    "        keepers.append(line)\n",
    "#keepers"
   ]
  },
  {
   "cell_type": "code",
   "execution_count": 19,
   "metadata": {},
   "outputs": [],
   "source": [
    "def get_closures(data):\n",
    "    sym = {'(':')', '<':'>', '[':']', '{':'}'}\n",
    "    sym_open = set(['(','<','[','{'])\n",
    "    sym_value = {')':3,']':57,'}':1197,'>':25137}\n",
    "    expect = []\n",
    "    #print(data)\n",
    "    for s in data:\n",
    "        if not (set(s) < sym_open):\n",
    "            #print(\"s =\",s,\"expect \",expect[-1])\n",
    "            if s == expect[-1]:\n",
    "                expect.pop()\n",
    "                pass\n",
    "            else:\n",
    "                print(\"expected: \", expect[-1], \"found: \",s)\n",
    "                return 0#sym_value[s]\n",
    "                break\n",
    "        if (set(s) < sym_open):\n",
    "            expect.append(sym[s])\n",
    "    return list(reversed(expect))"
   ]
  },
  {
   "cell_type": "code",
   "execution_count": 20,
   "metadata": {},
   "outputs": [],
   "source": [
    "to_score =[]\n",
    "for line in keepers:\n",
    "    to_score.append(get_closures(line))\n",
    "#to_score"
   ]
  },
  {
   "cell_type": "code",
   "execution_count": 21,
   "metadata": {},
   "outputs": [],
   "source": [
    "def score(line):\n",
    "    scr = 0\n",
    "    lookup = {')':1,']':2,'}':3,'>':4}\n",
    "    for sym in line:\n",
    "        scr *=5\n",
    "        scr += lookup[sym]\n",
    "    return scr"
   ]
  },
  {
   "cell_type": "code",
   "execution_count": 22,
   "metadata": {},
   "outputs": [
    {
     "name": "stdout",
     "output_type": "stream",
     "text": [
      "3103006161\n"
     ]
    }
   ],
   "source": [
    "scrs = []\n",
    "for s in to_score:\n",
    "    scrs.append(score(s))\n",
    "scrs.sort()\n",
    "mid = len(scrs)\n",
    "print(scrs[mid//2])"
   ]
  }
 ],
 "metadata": {
  "kernelspec": {
   "display_name": "Python 3",
   "language": "python",
   "name": "python3"
  },
  "language_info": {
   "codemirror_mode": {
    "name": "ipython",
    "version": 3
   },
   "file_extension": ".py",
   "mimetype": "text/x-python",
   "name": "python",
   "nbconvert_exporter": "python",
   "pygments_lexer": "ipython3",
   "version": "3.8.5"
  }
 },
 "nbformat": 4,
 "nbformat_minor": 4
}
