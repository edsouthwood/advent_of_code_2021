{
 "cells": [
  {
   "cell_type": "code",
   "execution_count": 72,
   "metadata": {},
   "outputs": [
    {
     "data": {
      "text/plain": [
       "[[2, 1, 9, 9, 9, 4, 3, 2, 1, 0],\n",
       " [3, 9, 8, 7, 8, 9, 4, 9, 2, 1],\n",
       " [9, 8, 5, 6, 7, 8, 9, 8, 9, 2],\n",
       " [8, 7, 6, 7, 8, 9, 6, 7, 8, 9],\n",
       " [9, 8, 9, 9, 9, 6, 5, 6, 7, 8]]"
      ]
     },
     "execution_count": 72,
     "metadata": {},
     "output_type": "execute_result"
    }
   ],
   "source": [
    "with open(\"toy_data.txt\") as f:\n",
    "    data = f.readlines()\n",
    "data = [d.strip(\"\\n\") for d in data]\n",
    "data = [list(d) for d in data]\n",
    "data = [[int(i) for i in l] for l in data]\n",
    "data"
   ]
  },
  {
   "cell_type": "code",
   "execution_count": 70,
   "metadata": {},
   "outputs": [],
   "source": [
    "def low_spots(hmap):\n",
    "    #low_points = [[None]*len(hmap[0])]*len(hmap)\n",
    "    low_points_total = 0\n",
    "    low_points = []\n",
    "    for y in range(len(hmap)):\n",
    "        for x in range(len(hmap[0])):\n",
    "            #print(y,x,hmap[y][x])\n",
    "            p = hmap[y][x]\n",
    "            up = get_neighbour(y-1,x,hmap)\n",
    "            down = get_neighbour(y+1,x,hmap)\n",
    "            left = get_neighbour(y,x-1,hmap)\n",
    "            right = get_neighbour(y,x+1,hmap)\n",
    "            #print(\"p\",p,\"u\",up,\"d\",down,\"l\",left,\"r\",right)\n",
    "            if p < up and p < down and p < left and p < right:\n",
    "                #print(\"low spot \",hmap[y][x],\" at \",x,y)\n",
    "                #low_points[y][x] = hmap[y][x]\n",
    "                low_points_total += hmap[y][x] +1\n",
    "                low_points.append([y,x])\n",
    "    print(low_points_total)\n",
    "    print(low_points)"
   ]
  },
  {
   "cell_type": "code",
   "execution_count": 60,
   "metadata": {},
   "outputs": [],
   "source": [
    "def get_neighbour(y,x,data):\n",
    "    if y < 0 or x < 0:\n",
    "        return 10\n",
    "    elif x > len(data[0])-1 or y > len(data)-1:\n",
    "        return 10\n",
    "    else:\n",
    "        return data[y][x]"
   ]
  },
  {
   "cell_type": "code",
   "execution_count": 49,
   "metadata": {
    "scrolled": false
   },
   "outputs": [
    {
     "data": {
      "text/plain": [
       "0"
      ]
     },
     "execution_count": 49,
     "metadata": {},
     "output_type": "execute_result"
    }
   ],
   "source": [
    "data[0][9]"
   ]
  },
  {
   "cell_type": "code",
   "execution_count": 25,
   "metadata": {},
   "outputs": [
    {
     "data": {
      "text/plain": [
       "[[2, 1, 9, 9, 9, 4, 3, 2, 1, 0],\n",
       " [3, 9, 8, 7, 8, 9, 4, 9, 2, 1],\n",
       " [9, 8, 5, 6, 7, 8, 9, 8, 9, 2],\n",
       " [8, 7, 6, 7, 8, 9, 6, 7, 8, 9],\n",
       " [9, 8, 9, 9, 9, 6, 5, 6, 7, 8]]"
      ]
     },
     "execution_count": 25,
     "metadata": {},
     "output_type": "execute_result"
    }
   ],
   "source": [
    "data"
   ]
  },
  {
   "cell_type": "code",
   "execution_count": 39,
   "metadata": {},
   "outputs": [
    {
     "data": {
      "text/plain": [
       "True"
      ]
     },
     "execution_count": 39,
     "metadata": {},
     "output_type": "execute_result"
    }
   ],
   "source": [
    "1<2 and 1 <3 and 4<5"
   ]
  },
  {
   "cell_type": "code",
   "execution_count": 73,
   "metadata": {},
   "outputs": [
    {
     "name": "stdout",
     "output_type": "stream",
     "text": [
      "15\n",
      "[[0, 1], [0, 9], [2, 2], [4, 6]]\n"
     ]
    }
   ],
   "source": [
    "low_spots(data)"
   ]
  }
 ],
 "metadata": {
  "kernelspec": {
   "display_name": "Python 3",
   "language": "python",
   "name": "python3"
  },
  "language_info": {
   "codemirror_mode": {
    "name": "ipython",
    "version": 3
   },
   "file_extension": ".py",
   "mimetype": "text/x-python",
   "name": "python",
   "nbconvert_exporter": "python",
   "pygments_lexer": "ipython3",
   "version": "3.8.5"
  }
 },
 "nbformat": 4,
 "nbformat_minor": 4
}
