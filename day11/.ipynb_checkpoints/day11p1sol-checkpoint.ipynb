{
 "cells": [
  {
   "cell_type": "code",
   "execution_count": 50,
   "metadata": {},
   "outputs": [
    {
     "data": {
      "text/plain": [
       "[[2, 3, 4, 4, 6, 7, 1, 2, 1, 2],\n",
       " [6, 6, 1, 1, 7, 4, 2, 6, 8, 1],\n",
       " [5, 5, 7, 5, 5, 7, 5, 5, 7, 3],\n",
       " [3, 1, 6, 7, 8, 4, 8, 5, 3, 6],\n",
       " [1, 3, 5, 3, 8, 2, 7, 3, 1, 1],\n",
       " [4, 4, 1, 6, 4, 6, 3, 2, 6, 6],\n",
       " [2, 6, 2, 4, 7, 6, 1, 6, 1, 5],\n",
       " [1, 7, 8, 6, 5, 6, 1, 2, 6, 3],\n",
       " [3, 6, 2, 2, 6, 4, 3, 2, 1, 5],\n",
       " [4, 1, 4, 3, 2, 8, 4, 6, 5, 3]]"
      ]
     },
     "execution_count": 50,
     "metadata": {},
     "output_type": "execute_result"
    }
   ],
   "source": [
    "with open(\"data.txt\") as f:\n",
    "    data = f.readlines()\n",
    "data = [d.strip('\\n') for d in data]\n",
    "data = [list(d) for d in data]\n",
    "data = [[int(i) for i in l] for l in data]\n",
    "data"
   ]
  },
  {
   "cell_type": "code",
   "execution_count": null,
   "metadata": {},
   "outputs": [],
   "source": []
  },
  {
   "cell_type": "code",
   "execution_count": 22,
   "metadata": {},
   "outputs": [],
   "source": [
    "def increment_neighbours(point, data):\n",
    "    #print(\"point[0] = \",point[0])\n",
    "    for y in [point[0]-1, point[0], point[0]+1]:\n",
    "        for x in [point[1]-1, point[1], point[1]+1]:\n",
    "            #check for negative indices (outside of board up and left)\n",
    "            if y < 0 or x < 0:\n",
    "                pass\n",
    "            #check of too big indices (outside right and down)\n",
    "            elif x > len(data[0])-1 or y > len(data)-1:\n",
    "                pass\n",
    "            #dont increment self\n",
    "            elif point == [y,x]:\n",
    "                pass\n",
    "            else:\n",
    "                data[y][x] += 1\n",
    "    return data"
   ]
  },
  {
   "cell_type": "code",
   "execution_count": 23,
   "metadata": {},
   "outputs": [],
   "source": [
    "def increment_array(data):\n",
    "    output = data\n",
    "    for y in range(len(data)):\n",
    "        for x in range(len(data[0])):\n",
    "            output[y][x] += 1\n",
    "    return output"
   ]
  },
  {
   "cell_type": "code",
   "execution_count": 24,
   "metadata": {},
   "outputs": [],
   "source": [
    "def check_for_flashers(data):\n",
    "    flashers = []\n",
    "    for y in range(len(data)):\n",
    "        for x in range(len(data[0])):\n",
    "            if data[y][x] > 9:\n",
    "                flashers.append([y,x])\n",
    "    #print(\"flashers \",flashers)\n",
    "    return flashers"
   ]
  },
  {
   "cell_type": "code",
   "execution_count": 41,
   "metadata": {},
   "outputs": [],
   "source": [
    "def count_flashed(data):\n",
    "    count = 0\n",
    "    for y in range(len(data)):\n",
    "        for x in range(len(data[0])):\n",
    "            if data[y][x] == 0:\n",
    "                count += 1\n",
    "    #print(\"flashers \",flashers)\n",
    "    return count"
   ]
  },
  {
   "cell_type": "code",
   "execution_count": 25,
   "metadata": {},
   "outputs": [],
   "source": [
    "def reset_flashers(data):\n",
    "    for y in range(len(data)):\n",
    "        for x in range(len(data[0])):\n",
    "            if data[y][x] > 9:\n",
    "                data[y][x] = 0\n",
    "    return data"
   ]
  },
  {
   "cell_type": "code",
   "execution_count": 26,
   "metadata": {},
   "outputs": [],
   "source": [
    "def super_remove(point, lst):\n",
    "    keep_going = True\n",
    "    while keep_going:\n",
    "        try:\n",
    "            lst.remove(point)\n",
    "        except:\n",
    "            keep_going = False\n",
    "    return lst"
   ]
  },
  {
   "cell_type": "code",
   "execution_count": 44,
   "metadata": {},
   "outputs": [],
   "source": [
    "def tick(data):\n",
    "    data = increment_array(data)\n",
    "    flashers = check_for_flashers(data)\n",
    "    flashed = []\n",
    "    while len(flashers) > 0:\n",
    "        for f in flashers:\n",
    "            if f in flashed:\n",
    "                pass\n",
    "            else:\n",
    "                #print(\"f =\",f)\n",
    "                data = increment_neighbours(f,data)\n",
    "                flashers = super_remove(f,flashers)\n",
    "                flashed.append(f)\n",
    "                #print(\"flashed\",flashed)\n",
    "        extra_flashers = check_for_flashers(data)\n",
    "        \"\"\"flshrs = set(flashers)\n",
    "        xtra_flshrs = set(extra_flashers)\n",
    "        extra_flashers = list(xtra_flshrs - flshrs)\"\"\"\n",
    "        for fl in flashed:\n",
    "            try:\n",
    "                extra_flashers = super_remove(fl, extra_flashers)\n",
    "                #flshrs = set(flashers)\n",
    "                #xtra_flshrs = set(extra_flashers)\n",
    "                #extra_flashers = list(xtra_flshrs - flshrs)\n",
    "            except:\n",
    "                pass\n",
    "        try:\n",
    "            flashers += extra_flashers\n",
    "        except:\n",
    "            pass\n",
    "    data = reset_flashers(data)\n",
    "    count = count_flashed(data)\n",
    "    return data, count"
   ]
  },
  {
   "cell_type": "code",
   "execution_count": 51,
   "metadata": {},
   "outputs": [
    {
     "name": "stdout",
     "output_type": "stream",
     "text": [
      "1729\n"
     ]
    }
   ],
   "source": [
    "#print(data)\n",
    "count = 0\n",
    "for t in range(100):\n",
    "    data, tick_count = tick(data)\n",
    "    count += tick_count\n",
    "    #print(data)\n",
    "    #print(count)\n",
    "print(count)"
   ]
  },
  {
   "cell_type": "code",
   "execution_count": 37,
   "metadata": {},
   "outputs": [
    {
     "data": {
      "text/plain": [
       "[[5, 4, 8, 3, 1, 4, 3, 2, 2, 3],\n",
       " [2, 7, 4, 5, 8, 5, 4, 7, 1, 1],\n",
       " [5, 2, 6, 4, 5, 5, 6, 1, 7, 3],\n",
       " [6, 1, 4, 1, 3, 3, 6, 1, 4, 6],\n",
       " [6, 3, 5, 7, 3, 8, 5, 4, 7, 8],\n",
       " [4, 1, 6, 7, 5, 2, 4, 6, 4, 5],\n",
       " [2, 1, 7, 6, 8, 4, 1, 7, 2, 1],\n",
       " [6, 8, 8, 2, 8, 8, 1, 1, 3, 4],\n",
       " [4, 8, 4, 6, 8, 4, 8, 5, 5, 4],\n",
       " [5, 2, 8, 3, 7, 5, 1, 5, 2, 6]]"
      ]
     },
     "execution_count": 37,
     "metadata": {},
     "output_type": "execute_result"
    }
   ],
   "source": [
    "data"
   ]
  },
  {
   "cell_type": "code",
   "execution_count": 38,
   "metadata": {},
   "outputs": [
    {
     "data": {
      "text/plain": [
       "[[6, 5, 9, 4, 2, 5, 4, 3, 3, 4],\n",
       " [3, 8, 5, 6, 9, 6, 5, 8, 2, 2],\n",
       " [6, 3, 7, 5, 6, 6, 7, 2, 8, 4],\n",
       " [7, 2, 5, 2, 4, 4, 7, 2, 5, 7],\n",
       " [7, 4, 6, 8, 4, 9, 6, 5, 8, 9],\n",
       " [5, 2, 7, 8, 6, 3, 5, 7, 5, 6],\n",
       " [3, 2, 8, 7, 9, 5, 2, 8, 3, 2],\n",
       " [7, 9, 9, 3, 9, 9, 2, 2, 4, 5],\n",
       " [5, 9, 5, 7, 9, 5, 9, 6, 6, 5],\n",
       " [6, 3, 9, 4, 8, 6, 2, 6, 3, 7]]"
      ]
     },
     "execution_count": 38,
     "metadata": {},
     "output_type": "execute_result"
    }
   ],
   "source": [
    "s1 = tick(data)\n",
    "s1"
   ]
  },
  {
   "cell_type": "code",
   "execution_count": 39,
   "metadata": {},
   "outputs": [
    {
     "data": {
      "text/plain": [
       "[[8, 8, 0, 7, 4, 7, 6, 5, 5, 5],\n",
       " [5, 0, 8, 9, 0, 8, 7, 0, 5, 4],\n",
       " [8, 5, 9, 7, 8, 8, 9, 6, 0, 8],\n",
       " [8, 4, 8, 5, 7, 6, 9, 6, 0, 0],\n",
       " [8, 7, 0, 0, 9, 0, 8, 8, 0, 0],\n",
       " [6, 6, 0, 0, 0, 8, 8, 9, 8, 9],\n",
       " [6, 8, 0, 0, 0, 0, 5, 9, 4, 3],\n",
       " [0, 0, 0, 0, 0, 0, 7, 4, 5, 6],\n",
       " [9, 0, 0, 0, 0, 0, 0, 8, 7, 6],\n",
       " [8, 7, 0, 0, 0, 0, 6, 8, 4, 8]]"
      ]
     },
     "execution_count": 39,
     "metadata": {},
     "output_type": "execute_result"
    }
   ],
   "source": [
    "s2 = tick(s1)\n",
    "s2"
   ]
  },
  {
   "cell_type": "code",
   "execution_count": null,
   "metadata": {},
   "outputs": [],
   "source": []
  },
  {
   "cell_type": "code",
   "execution_count": null,
   "metadata": {},
   "outputs": [],
   "source": []
  },
  {
   "cell_type": "code",
   "execution_count": null,
   "metadata": {},
   "outputs": [],
   "source": []
  },
  {
   "cell_type": "code",
   "execution_count": 12,
   "metadata": {},
   "outputs": [
    {
     "ename": "TypeError",
     "evalue": "list.remove() takes exactly one argument (2 given)",
     "output_type": "error",
     "traceback": [
      "\u001b[0;31m---------------------------------------------------------------------------\u001b[0m",
      "\u001b[0;31mTypeError\u001b[0m                                 Traceback (most recent call last)",
      "\u001b[0;32m<ipython-input-12-cfac7554a0ca>\u001b[0m in \u001b[0;36m<module>\u001b[0;34m\u001b[0m\n\u001b[1;32m      1\u001b[0m \u001b[0mpoints\u001b[0m \u001b[0;34m=\u001b[0m \u001b[0;34m[\u001b[0m\u001b[0;34m[\u001b[0m\u001b[0;36m1\u001b[0m\u001b[0;34m,\u001b[0m\u001b[0;36m1\u001b[0m\u001b[0;34m]\u001b[0m\u001b[0;34m,\u001b[0m\u001b[0;34m[\u001b[0m\u001b[0;36m1\u001b[0m\u001b[0;34m,\u001b[0m\u001b[0;36m2\u001b[0m\u001b[0;34m]\u001b[0m\u001b[0;34m,\u001b[0m\u001b[0;34m[\u001b[0m\u001b[0;36m2\u001b[0m\u001b[0;34m,\u001b[0m\u001b[0;36m1\u001b[0m\u001b[0;34m]\u001b[0m\u001b[0;34m]\u001b[0m\u001b[0;34m\u001b[0m\u001b[0;34m\u001b[0m\u001b[0m\n\u001b[0;32m----> 2\u001b[0;31m \u001b[0mpoints\u001b[0m\u001b[0;34m.\u001b[0m\u001b[0mremove\u001b[0m\u001b[0;34m(\u001b[0m\u001b[0;34m[\u001b[0m\u001b[0;36m1\u001b[0m\u001b[0;34m,\u001b[0m\u001b[0;36m2\u001b[0m\u001b[0;34m]\u001b[0m\u001b[0;34m,\u001b[0m\u001b[0;34m[\u001b[0m\u001b[0;36m1\u001b[0m\u001b[0;34m,\u001b[0m\u001b[0;36m1\u001b[0m\u001b[0;34m]\u001b[0m\u001b[0;34m)\u001b[0m\u001b[0;34m\u001b[0m\u001b[0;34m\u001b[0m\u001b[0m\n\u001b[0m\u001b[1;32m      3\u001b[0m \u001b[0mpoints\u001b[0m\u001b[0;34m\u001b[0m\u001b[0;34m\u001b[0m\u001b[0m\n",
      "\u001b[0;31mTypeError\u001b[0m: list.remove() takes exactly one argument (2 given)"
     ]
    }
   ],
   "source": [
    "points = [[1,1],[1,2],[2,1]]\n",
    "points.remove([1,2])\n",
    "points"
   ]
  },
  {
   "cell_type": "code",
   "execution_count": 7,
   "metadata": {},
   "outputs": [
    {
     "data": {
      "text/plain": [
       "[[1, 1], [1, 2], [2, 1], [1, 1]]"
      ]
     },
     "execution_count": 7,
     "metadata": {},
     "output_type": "execute_result"
    }
   ],
   "source": [
    "p1 = [[1,1],[1,2],[2,1],[1,1]]\n",
    "p2 = [[3,1],[4,2],[4,1]]\n",
    "p3 = []\n",
    "p1"
   ]
  },
  {
   "cell_type": "code",
   "execution_count": 8,
   "metadata": {},
   "outputs": [
    {
     "data": {
      "text/plain": [
       "[[1, 2], [2, 1]]"
      ]
     },
     "execution_count": 8,
     "metadata": {},
     "output_type": "execute_result"
    }
   ],
   "source": [
    "keep_going = True\n",
    "while keep_going:\n",
    "    try:\n",
    "        p1.remove([1,1])\n",
    "    except:\n",
    "        keep_going = False\n",
    "p1"
   ]
  },
  {
   "cell_type": "code",
   "execution_count": 3,
   "metadata": {},
   "outputs": [
    {
     "ename": "TypeError",
     "evalue": "unhashable type: 'list'",
     "output_type": "error",
     "traceback": [
      "\u001b[0;31m---------------------------------------------------------------------------\u001b[0m",
      "\u001b[0;31mTypeError\u001b[0m                                 Traceback (most recent call last)",
      "\u001b[0;32m<ipython-input-3-c6c239e62955>\u001b[0m in \u001b[0;36m<module>\u001b[0;34m\u001b[0m\n\u001b[0;32m----> 1\u001b[0;31m \u001b[0mset\u001b[0m\u001b[0;34m(\u001b[0m\u001b[0mp1\u001b[0m\u001b[0;34m)\u001b[0m\u001b[0;34m\u001b[0m\u001b[0;34m\u001b[0m\u001b[0m\n\u001b[0m",
      "\u001b[0;31mTypeError\u001b[0m: unhashable type: 'list'"
     ]
    }
   ],
   "source": [
    "set(p1)"
   ]
  }
 ],
 "metadata": {
  "kernelspec": {
   "display_name": "Python 3",
   "language": "python",
   "name": "python3"
  },
  "language_info": {
   "codemirror_mode": {
    "name": "ipython",
    "version": 3
   },
   "file_extension": ".py",
   "mimetype": "text/x-python",
   "name": "python",
   "nbconvert_exporter": "python",
   "pygments_lexer": "ipython3",
   "version": "3.9.5"
  }
 },
 "nbformat": 4,
 "nbformat_minor": 4
}
