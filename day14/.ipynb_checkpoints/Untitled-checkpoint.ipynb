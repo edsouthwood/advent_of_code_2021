{
 "cells": [
  {
   "cell_type": "code",
   "execution_count": 3,
   "metadata": {},
   "outputs": [
    {
     "name": "stdout",
     "output_type": "stream",
     "text": [
      "['NNCB']\n",
      "['CH -> B', 'HH -> N', 'CB -> H', 'NH -> C', 'HB -> C', 'HC -> B', 'HN -> C', 'NN -> C', 'BH -> H', 'NC -> B', 'NB -> B', 'BN -> B', 'BB -> N', 'BC -> B', 'CC -> N', 'CN -> C']\n"
     ]
    }
   ],
   "source": [
    "inpt = []\n",
    "raw_rules = []\n",
    "with open(\"toy.txt\") as f:\n",
    "    toggle = True\n",
    "    for line in f:\n",
    "        if line == '\\n':\n",
    "            toggle = False\n",
    "        if toggle:\n",
    "            inpt += [line.strip('\\n')]\n",
    "        else:\n",
    "            if line == '\\n':\n",
    "                pass\n",
    "            else:\n",
    "                raw_rules += [line.strip('\\n')]\n",
    "print(inpt)\n",
    "print(raw_rules)"
   ]
  },
  {
   "cell_type": "code",
   "execution_count": 4,
   "metadata": {},
   "outputs": [
    {
     "data": {
      "text/plain": [
       "{'CH': 'B',\n",
       " 'HH': 'N',\n",
       " 'CB': 'H',\n",
       " 'NH': 'C',\n",
       " 'HB': 'C',\n",
       " 'HC': 'B',\n",
       " 'HN': 'C',\n",
       " 'NN': 'C',\n",
       " 'BH': 'H',\n",
       " 'NC': 'B',\n",
       " 'NB': 'B',\n",
       " 'BN': 'B',\n",
       " 'BB': 'N',\n",
       " 'BC': 'B',\n",
       " 'CC': 'N',\n",
       " 'CN': 'C'}"
      ]
     },
     "execution_count": 4,
     "metadata": {},
     "output_type": "execute_result"
    }
   ],
   "source": [
    "rules = dict()\n",
    "for rule in raw_rules:\n",
    "    rule = rule.split(' -> ')\n",
    "    rules[rule[0]]= rule[1]\n",
    "rules"
   ]
  },
  {
   "cell_type": "code",
   "execution_count": 19,
   "metadata": {},
   "outputs": [],
   "source": [
    "def tick(iput):\n",
    "    new_string = \"\"\n",
    "    for x in range(len(iput)-1):\n",
    "        #print(iput[x:x+2])\n",
    "        insert = rules[iput[x:x+2]]\n",
    "        #print(insert)\n",
    "        new_string += iput[x]+insert\n",
    "    new_string += iput[-1]\n",
    "    return new_string"
   ]
  },
  {
   "cell_type": "code",
   "execution_count": 21,
   "metadata": {},
   "outputs": [
    {
     "name": "stdout",
     "output_type": "stream",
     "text": [
      "NNCB\n",
      "NCNBCHB\n",
      "NBCCNBBBCBHCB\n",
      "NBBBCNCCNBBNBNBBCHBHHBCHB\n",
      "NBBNBNBBCCNBCNCCNBBNBBNBBBNBBNBBCBHCBHHNHCBBCBHCB\n"
     ]
    }
   ],
   "source": [
    "i = inpt[0]\n",
    "for t in range(4):\n",
    "    print(i)\n",
    "    i = tick(i)\n",
    "print(i)"
   ]
  },
  {
   "cell_type": "code",
   "execution_count": 23,
   "metadata": {},
   "outputs": [
    {
     "name": "stdout",
     "output_type": "stream",
     "text": [
      "['CH']\n",
      "['HH']\n",
      "['CB']\n",
      "['NH']\n",
      "['HB']\n",
      "['HC']\n",
      "['HN']\n",
      "['NN']\n",
      "['BH']\n",
      "['NC']\n",
      "['NB']\n",
      "['BN']\n",
      "['BB']\n",
      "['BC']\n",
      "['CC']\n",
      "['CN']\n"
     ]
    }
   ],
   "source": [
    "for value in rules:\n",
    "    print(value.split())"
   ]
  }
 ],
 "metadata": {
  "kernelspec": {
   "display_name": "Python 3",
   "language": "python",
   "name": "python3"
  },
  "language_info": {
   "codemirror_mode": {
    "name": "ipython",
    "version": 3
   },
   "file_extension": ".py",
   "mimetype": "text/x-python",
   "name": "python",
   "nbconvert_exporter": "python",
   "pygments_lexer": "ipython3",
   "version": "3.8.5"
  }
 },
 "nbformat": 4,
 "nbformat_minor": 4
}
