{
 "cells": [
  {
   "cell_type": "code",
   "execution_count": 98,
   "metadata": {},
   "outputs": [
    {
     "name": "stdout",
     "output_type": "stream",
     "text": [
      "[[['0', '9'], ['5', '9']], [['8', '0'], ['0', '8']], [['9', '4'], ['3', '4']], [['2', '2'], ['2', '1']], [['7', '0'], ['7', '4']], [['6', '4'], ['2', '0']], [['0', '9'], ['2', '9']], [['3', '4'], ['1', '4']], [['0', '0'], ['8', '8']], [['5', '5'], ['8', '2']]]\n"
     ]
    }
   ],
   "source": [
    "with open('toy_data.txt') as f:\n",
    "    data = f.readlines()\n",
    "data = [d.strip('\\n') for d in data]\n",
    "data = [d.split(' -> ') for d in data]\n",
    "data = [[d[0].split(','),d[1].split(',')] for d in data]\n",
    "print(data)"
   ]
  },
  {
   "cell_type": "code",
   "execution_count": 18,
   "metadata": {},
   "outputs": [],
   "source": [
    "def find_max_dimensions(data_list):\n",
    "    x_max = 0\n",
    "    y_max = 0\n",
    "    for pair in data:\n",
    "        for coord in pair:\n",
    "            if int(coord[0])>x_max:\n",
    "                x_max = int(coord[0])\n",
    "            if int(coord[1])>y_max:\n",
    "                y_max = int(coord[1])\n",
    "    return x_max, y_max"
   ]
  },
  {
   "cell_type": "code",
   "execution_count": 57,
   "metadata": {},
   "outputs": [
    {
     "ename": "TypeError",
     "evalue": "can only concatenate tuple (not \"int\") to tuple",
     "output_type": "error",
     "traceback": [
      "\u001b[0;31m---------------------------------------------------------------------------\u001b[0m",
      "\u001b[0;31mTypeError\u001b[0m                                 Traceback (most recent call last)",
      "\u001b[0;32m<ipython-input-57-299bd15548d4>\u001b[0m in \u001b[0;36m<module>\u001b[0;34m\u001b[0m\n\u001b[0;32m----> 1\u001b[0;31m \u001b[0mfind_max_dimensions\u001b[0m\u001b[0;34m(\u001b[0m\u001b[0mdata\u001b[0m\u001b[0;34m)\u001b[0m\u001b[0;34m+\u001b[0m\u001b[0;36m1\u001b[0m\u001b[0;34m\u001b[0m\u001b[0;34m\u001b[0m\u001b[0m\n\u001b[0m",
      "\u001b[0;31mTypeError\u001b[0m: can only concatenate tuple (not \"int\") to tuple"
     ]
    }
   ],
   "source": [
    "find_max_dimensions(data)"
   ]
  },
  {
   "cell_type": "code",
   "execution_count": 20,
   "metadata": {},
   "outputs": [
    {
     "data": {
      "text/plain": [
       "[['0', '9'], ['5', '9']]"
      ]
     },
     "execution_count": 20,
     "metadata": {},
     "output_type": "execute_result"
    }
   ],
   "source": [
    "data[0]"
   ]
  },
  {
   "cell_type": "code",
   "execution_count": 21,
   "metadata": {},
   "outputs": [],
   "source": [
    "import numpy as np"
   ]
  },
  {
   "cell_type": "code",
   "execution_count": null,
   "metadata": {},
   "outputs": [],
   "source": [
    "grid = np.zeros(9,9)\n",
    "pair = data[0]\n",
    "x_1 = pair[0][0]\n",
    "y_1 = pair[0][1]\n",
    "x_2 = pair[1][0]\n",
    "y_2 = pair[1][1]\n",
    "# check for diagonal lines\n",
    "if x_1 != x_2 and y_1 != y_2:\n",
    "    print('diag')\n",
    "else:#must be horizontal or vertical\n",
    "    # check vertical line\n",
    "    if x_1 == x_2:\n",
    "        print('vert')\n",
    "    else:\n",
    "        print('horz')"
   ]
  },
  {
   "cell_type": "code",
   "execution_count": 50,
   "metadata": {},
   "outputs": [
    {
     "data": {
      "text/plain": [
       "10"
      ]
     },
     "execution_count": 50,
     "metadata": {},
     "output_type": "execute_result"
    }
   ],
   "source": [
    "min(100,10)"
   ]
  },
  {
   "cell_type": "code",
   "execution_count": 53,
   "metadata": {},
   "outputs": [],
   "source": [
    "def add_line_to_grid(pair, grid):\n",
    "    x_1 = int(pair[0][0])\n",
    "    y_1 = int(pair[0][1])\n",
    "    x_2 = int(pair[1][0])\n",
    "    y_2 = int(pair[1][1])\n",
    "    # check for diagonal lines\n",
    "    if (x_1 != x_2) and (y_1 != y_2):\n",
    "        print('diag')\n",
    "        if abs(x_1 - x_2) == abs(y_1 - y_2):\n",
    "            \n",
    "            if x_1 > x_2 and y_\n",
    "            print('45 degrees')\n",
    "        else:\n",
    "            print('other diag')\n",
    "    else:#must be horizontal or vertical\n",
    "        # check vertical line\n",
    "        if x_1 == x_2:\n",
    "            print(\"vert\")\n",
    "            for y in range(min(y_1,y_2),max(y_1,y_2)+1):\n",
    "                grid[y][x_1] += 1\n",
    "        else:\n",
    "            print(\"hoz\")\n",
    "            for x in range(min(x_1,x_2),max(x_1,x_2)+1):\n",
    "                grid[y_1][x] += 1\n",
    "    return grid"
   ]
  },
  {
   "cell_type": "code",
   "execution_count": 54,
   "metadata": {},
   "outputs": [
    {
     "name": "stdout",
     "output_type": "stream",
     "text": [
      "[['0', '9'], ['5', '9']]\n",
      "hoz\n",
      "[['8', '0'], ['0', '8']]\n",
      "[['9', '4'], ['3', '4']]\n",
      "hoz\n",
      "[['2', '2'], ['2', '1']]\n",
      "vert\n",
      "[['7', '0'], ['7', '4']]\n",
      "vert\n",
      "[['6', '4'], ['2', '0']]\n",
      "[['0', '9'], ['2', '9']]\n",
      "hoz\n",
      "[['3', '4'], ['1', '4']]\n",
      "hoz\n",
      "[['0', '0'], ['8', '8']]\n",
      "[['5', '5'], ['8', '2']]\n"
     ]
    },
    {
     "data": {
      "text/plain": [
       "array([[0., 0., 0., 0., 0., 0., 0., 1., 0., 0.],\n",
       "       [0., 0., 1., 0., 0., 0., 0., 1., 0., 0.],\n",
       "       [0., 0., 1., 0., 0., 0., 0., 1., 0., 0.],\n",
       "       [0., 0., 0., 0., 0., 0., 0., 1., 0., 0.],\n",
       "       [0., 1., 1., 2., 1., 1., 1., 2., 1., 1.],\n",
       "       [0., 0., 0., 0., 0., 0., 0., 0., 0., 0.],\n",
       "       [0., 0., 0., 0., 0., 0., 0., 0., 0., 0.],\n",
       "       [0., 0., 0., 0., 0., 0., 0., 0., 0., 0.],\n",
       "       [0., 0., 0., 0., 0., 0., 0., 0., 0., 0.],\n",
       "       [2., 2., 2., 1., 1., 1., 0., 0., 0., 0.]])"
      ]
     },
     "execution_count": 54,
     "metadata": {},
     "output_type": "execute_result"
    }
   ],
   "source": [
    "grid = np.zeros([10,10])\n",
    "for pair in data:\n",
    "    print(pair)\n",
    "    grid = add_line_to_grid(pair,grid)\n",
    "grid"
   ]
  },
  {
   "cell_type": "code",
   "execution_count": 55,
   "metadata": {},
   "outputs": [],
   "source": [
    "def count_multi_coords(grid):\n",
    "    count = 0\n",
    "    for row in grid:\n",
    "        for el in row:\n",
    "            if el > 1:\n",
    "                count+=1\n",
    "    return(count)"
   ]
  },
  {
   "cell_type": "code",
   "execution_count": 56,
   "metadata": {},
   "outputs": [
    {
     "data": {
      "text/plain": [
       "5"
      ]
     },
     "execution_count": 56,
     "metadata": {},
     "output_type": "execute_result"
    }
   ],
   "source": [
    "count_multi_coords(grid)"
   ]
  },
  {
   "cell_type": "code",
   "execution_count": 60,
   "metadata": {},
   "outputs": [],
   "source": [
    "def classify_line(pair):\n",
    "    print(pair)\n",
    "    x_1 = int(pair[0][0])\n",
    "    y_1 = int(pair[0][1])\n",
    "    x_2 = int(pair[1][0])\n",
    "    y_2 = int(pair[1][1])\n",
    "    # check for diagonal lines\n",
    "    if x_1 != x_2 and y_1 != y_2:\n",
    "        print('diag')\n",
    "        if abs(x_1 - x_2) == abs(y_1 - y_2):\n",
    "            print('45 degrees')\n",
    "        else:\n",
    "            print('other diag')\n",
    "    else:#must be horizontal or vertical\n",
    "        # check vertical line\n",
    "        if x_1 == x_2:\n",
    "            print('vert')\n",
    "        else:\n",
    "            print('horz')\n",
    "    print(\"--------------\")"
   ]
  },
  {
   "cell_type": "code",
   "execution_count": 61,
   "metadata": {},
   "outputs": [
    {
     "name": "stdout",
     "output_type": "stream",
     "text": [
      "[['0', '9'], ['5', '9']]\n",
      "horz\n",
      "--------------\n",
      "[['8', '0'], ['0', '8']]\n",
      "diag\n",
      "45 degrees\n",
      "--------------\n",
      "[['9', '4'], ['3', '4']]\n",
      "horz\n",
      "--------------\n",
      "[['2', '2'], ['2', '1']]\n",
      "vert\n",
      "--------------\n",
      "[['7', '0'], ['7', '4']]\n",
      "vert\n",
      "--------------\n",
      "[['6', '4'], ['2', '0']]\n",
      "diag\n",
      "45 degrees\n",
      "--------------\n",
      "[['0', '9'], ['2', '9']]\n",
      "horz\n",
      "--------------\n",
      "[['3', '4'], ['1', '4']]\n",
      "horz\n",
      "--------------\n",
      "[['0', '0'], ['8', '8']]\n",
      "diag\n",
      "45 degrees\n",
      "--------------\n",
      "[['5', '5'], ['8', '2']]\n",
      "diag\n",
      "45 degrees\n",
      "--------------\n"
     ]
    }
   ],
   "source": [
    "for pair in data:\n",
    "    classify_line(pair)"
   ]
  },
  {
   "cell_type": "code",
   "execution_count": 62,
   "metadata": {},
   "outputs": [
    {
     "data": {
      "text/plain": [
       "[[['0', '9'], ['5', '9']],\n",
       " [['8', '0'], ['0', '8']],\n",
       " [['9', '4'], ['3', '4']],\n",
       " [['2', '2'], ['2', '1']],\n",
       " [['7', '0'], ['7', '4']],\n",
       " [['6', '4'], ['2', '0']],\n",
       " [['0', '9'], ['2', '9']],\n",
       " [['3', '4'], ['1', '4']],\n",
       " [['0', '0'], ['8', '8']],\n",
       " [['5', '5'], ['8', '2']]]"
      ]
     },
     "execution_count": 62,
     "metadata": {},
     "output_type": "execute_result"
    }
   ],
   "source": [
    "data"
   ]
  },
  {
   "cell_type": "code",
   "execution_count": 71,
   "metadata": {},
   "outputs": [
    {
     "data": {
      "text/plain": [
       "[[['0', '9'], ['5', '9']],\n",
       " [['8', '0'], ['0', '8']],\n",
       " [['9', '4'], ['3', '4']],\n",
       " [['2', '2'], ['2', '1']],\n",
       " [['7', '0'], ['7', '4']],\n",
       " [['6', '4'], ['2', '0']],\n",
       " [['0', '9'], ['2', '9']],\n",
       " [['3', '4'], ['1', '4']],\n",
       " [['0', '0'], ['8', '8']],\n",
       " [['5', '5'], ['8', '2']]]"
      ]
     },
     "execution_count": 71,
     "metadata": {},
     "output_type": "execute_result"
    }
   ],
   "source": [
    "data"
   ]
  },
  {
   "cell_type": "code",
   "execution_count": 99,
   "metadata": {},
   "outputs": [
    {
     "data": {
      "text/plain": [
       "[[[0, 9], [5, 9]],\n",
       " [[8, 0], [0, 8]],\n",
       " [[9, 4], [3, 4]],\n",
       " [[2, 2], [2, 1]],\n",
       " [[7, 0], [7, 4]],\n",
       " [[6, 4], [2, 0]],\n",
       " [[0, 9], [2, 9]],\n",
       " [[3, 4], [1, 4]],\n",
       " [[0, 0], [8, 8]],\n",
       " [[5, 5], [8, 2]]]"
      ]
     },
     "execution_count": 99,
     "metadata": {},
     "output_type": "execute_result"
    }
   ],
   "source": [
    "for i, pair in enumerate(data):\n",
    "    #print(pair, i)\n",
    "    for j, coord in enumerate(pair):\n",
    "        for k,x in enumerate(coord):\n",
    "            data[i][j][k] = int(x)\n",
    "data"
   ]
  },
  {
   "cell_type": "code",
   "execution_count": 105,
   "metadata": {},
   "outputs": [
    {
     "name": "stdout",
     "output_type": "stream",
     "text": [
      "[[0, 9], [5, 9]]\n",
      "[[0, 8], [8, 0]]\n",
      "[[9, 4], [3, 4]]\n",
      "[[2, 2], [2, 1]]\n",
      "[[7, 0], [7, 4]]\n",
      "[[6, 4], [2, 0]]\n",
      "[[0, 9], [2, 9]]\n",
      "[[3, 4], [1, 4]]\n",
      "[[0, 0], [8, 8]]\n",
      "[[5, 5], [8, 2]]\n"
     ]
    }
   ],
   "source": [
    "for i, pair in enumerate(data):\n",
    "    print(data[i])\n",
    "    data[i].sort()\n"
   ]
  },
  {
   "cell_type": "code",
   "execution_count": 106,
   "metadata": {},
   "outputs": [
    {
     "data": {
      "text/plain": [
       "[[[0, 9], [5, 9]],\n",
       " [[0, 8], [8, 0]],\n",
       " [[3, 4], [9, 4]],\n",
       " [[2, 1], [2, 2]],\n",
       " [[7, 0], [7, 4]],\n",
       " [[2, 0], [6, 4]],\n",
       " [[0, 9], [2, 9]],\n",
       " [[1, 4], [3, 4]],\n",
       " [[0, 0], [8, 8]],\n",
       " [[5, 5], [8, 2]]]"
      ]
     },
     "execution_count": 106,
     "metadata": {},
     "output_type": "execute_result"
    }
   ],
   "source": [
    "data"
   ]
  },
  {
   "cell_type": "code",
   "execution_count": 104,
   "metadata": {},
   "outputs": [
    {
     "data": {
      "text/plain": [
       "[[0, 8], [8, 0]]"
      ]
     },
     "execution_count": 104,
     "metadata": {},
     "output_type": "execute_result"
    }
   ],
   "source": [
    "data[1]"
   ]
  },
  {
   "cell_type": "code",
   "execution_count": 91,
   "metadata": {},
   "outputs": [
    {
     "data": {
      "text/plain": [
       "[[[0, 9], [5, 9]],\n",
       " [[0, 8], [8, 0]],\n",
       " [[9, 4], [3, 4]],\n",
       " [[2, 2], [2, 1]],\n",
       " [[7, 0], [7, 4]],\n",
       " [[6, 4], [2, 0]],\n",
       " [[0, 9], [2, 9]],\n",
       " [[3, 4], [1, 4]],\n",
       " [[0, 0], [8, 8]],\n",
       " [[5, 5], [8, 2]]]"
      ]
     },
     "execution_count": 91,
     "metadata": {},
     "output_type": "execute_result"
    }
   ],
   "source": [
    "data"
   ]
  },
  {
   "cell_type": "code",
   "execution_count": 2,
   "metadata": {},
   "outputs": [
    {
     "data": {
      "text/plain": [
       "[10, 9, 8, 7, 6, 5]"
      ]
     },
     "execution_count": 2,
     "metadata": {},
     "output_type": "execute_result"
    }
   ],
   "source": [
    "list(range(10,4,-1))"
   ]
  }
 ],
 "metadata": {
  "kernelspec": {
   "display_name": "Python 3",
   "language": "python",
   "name": "python3"
  },
  "language_info": {
   "codemirror_mode": {
    "name": "ipython",
    "version": 3
   },
   "file_extension": ".py",
   "mimetype": "text/x-python",
   "name": "python",
   "nbconvert_exporter": "python",
   "pygments_lexer": "ipython3",
   "version": "3.8.5"
  }
 },
 "nbformat": 4,
 "nbformat_minor": 4
}
