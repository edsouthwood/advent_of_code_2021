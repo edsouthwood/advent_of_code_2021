{
 "cells": [
  {
   "cell_type": "code",
   "execution_count": 1,
   "metadata": {},
   "outputs": [],
   "source": [
    "import numpy as np"
   ]
  },
  {
   "cell_type": "code",
   "execution_count": 6,
   "metadata": {},
   "outputs": [
    {
     "name": "stdout",
     "output_type": "stream",
     "text": [
      "[[0. 0. 0. 0. 0. 0. 0. 0. 0.]\n",
      " [0. 0. 0. 0. 0. 0. 0. 0. 0.]\n",
      " [0. 0. 0. 0. 0. 0. 0. 0. 0.]\n",
      " [0. 0. 0. 0. 0. 0. 0. 0. 0.]\n",
      " [0. 0. 0. 0. 0. 0. 0. 0. 0.]\n",
      " [0. 0. 0. 0. 0. 0. 0. 0. 0.]\n",
      " [0. 0. 0. 0. 0. 0. 0. 0. 0.]\n",
      " [0. 0. 0. 0. 0. 0. 0. 0. 0.]\n",
      " [0. 0. 0. 0. 0. 0. 0. 0. 0.]] [[1. 1.]\n",
      " [1. 1.]] [[1. 1. 1. 1. 1. 1.]\n",
      " [1. 1. 1. 1. 1. 1.]\n",
      " [1. 1. 1. 1. 1. 1.]]\n"
     ]
    }
   ],
   "source": [
    "a = np.zeros([9,9])\n",
    "b = np.ones([2,2])\n",
    "c = np.ones([3,6])\n",
    "print(a,b,c)"
   ]
  },
  {
   "cell_type": "code",
   "execution_count": 13,
   "metadata": {},
   "outputs": [],
   "source": [
    "with open('toy_data.txt') as f:\n",
    "    data = f.readlines()\n",
    "data = [d.strip('\\n') for d in data]"
   ]
  },
  {
   "cell_type": "code",
   "execution_count": 14,
   "metadata": {},
   "outputs": [
    {
     "data": {
      "text/plain": [
       "['0,9 -> 5,9',\n",
       " '8,0 -> 0,8',\n",
       " '9,4 -> 3,4',\n",
       " '2,2 -> 2,1',\n",
       " '7,0 -> 7,4',\n",
       " '6,4 -> 2,0',\n",
       " '0,9 -> 2,9',\n",
       " '3,4 -> 1,4',\n",
       " '0,0 -> 8,8',\n",
       " '5,5 -> 8,2']"
      ]
     },
     "execution_count": 14,
     "metadata": {},
     "output_type": "execute_result"
    }
   ],
   "source": [
    "data"
   ]
  },
  {
   "cell_type": "code",
   "execution_count": 15,
   "metadata": {},
   "outputs": [
    {
     "name": "stdout",
     "output_type": "stream",
     "text": [
      "['0,9', '5,9']\n",
      "['8,0', '0,8']\n",
      "['9,4', '3,4']\n",
      "['2,2', '2,1']\n",
      "['7,0', '7,4']\n",
      "['6,4', '2,0']\n",
      "['0,9', '2,9']\n",
      "['3,4', '1,4']\n",
      "['0,0', '8,8']\n",
      "['5,5', '8,2']\n"
     ]
    }
   ],
   "source": [
    "for d in data:\n",
    "    print(d.split(' -> '))"
   ]
  },
  {
   "cell_type": "code",
   "execution_count": 16,
   "metadata": {},
   "outputs": [],
   "source": [
    "data = [d.split(' -> ') for d in data]"
   ]
  },
  {
   "cell_type": "code",
   "execution_count": 17,
   "metadata": {},
   "outputs": [
    {
     "data": {
      "text/plain": [
       "[['0,9', '5,9'],\n",
       " ['8,0', '0,8'],\n",
       " ['9,4', '3,4'],\n",
       " ['2,2', '2,1'],\n",
       " ['7,0', '7,4'],\n",
       " ['6,4', '2,0'],\n",
       " ['0,9', '2,9'],\n",
       " ['3,4', '1,4'],\n",
       " ['0,0', '8,8'],\n",
       " ['5,5', '8,2']]"
      ]
     },
     "execution_count": 17,
     "metadata": {},
     "output_type": "execute_result"
    }
   ],
   "source": [
    "data"
   ]
  },
  {
   "cell_type": "code",
   "execution_count": 18,
   "metadata": {},
   "outputs": [
    {
     "name": "stdout",
     "output_type": "stream",
     "text": [
      "from  ['0', '9']  to  ['5', '9']\n",
      "from  ['8', '0']  to  ['0', '8']\n",
      "from  ['9', '4']  to  ['3', '4']\n",
      "from  ['2', '2']  to  ['2', '1']\n",
      "from  ['7', '0']  to  ['7', '4']\n",
      "from  ['6', '4']  to  ['2', '0']\n",
      "from  ['0', '9']  to  ['2', '9']\n",
      "from  ['3', '4']  to  ['1', '4']\n",
      "from  ['0', '0']  to  ['8', '8']\n",
      "from  ['5', '5']  to  ['8', '2']\n"
     ]
    }
   ],
   "source": [
    "for d in data:\n",
    "    print(\"from \",d[0].split(','),\" to \",d[1].split(','))"
   ]
  },
  {
   "cell_type": "code",
   "execution_count": 5,
   "metadata": {},
   "outputs": [
    {
     "name": "stdout",
     "output_type": "stream",
     "text": [
      "3\n"
     ]
    }
   ],
   "source": [
    "count = 0\n",
    "for row in np.eye(3):\n",
    "    for el in row:\n",
    "        if el > 0:\n",
    "            count+=1\n",
    "print(count)"
   ]
  }
 ],
 "metadata": {
  "kernelspec": {
   "display_name": "Python 3",
   "language": "python",
   "name": "python3"
  },
  "language_info": {
   "codemirror_mode": {
    "name": "ipython",
    "version": 3
   },
   "file_extension": ".py",
   "mimetype": "text/x-python",
   "name": "python",
   "nbconvert_exporter": "python",
   "pygments_lexer": "ipython3",
   "version": "3.8.5"
  }
 },
 "nbformat": 4,
 "nbformat_minor": 4
}
