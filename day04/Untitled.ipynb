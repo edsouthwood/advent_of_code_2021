{
 "cells": [
  {
   "cell_type": "code",
   "execution_count": 1,
   "metadata": {},
   "outputs": [
    {
     "data": {
      "text/plain": [
       "['22 13 17 11  0',\n",
       " ' 8  2 23  4 24',\n",
       " '21  9 14 16  7',\n",
       " ' 6 10  3 18  5',\n",
       " ' 1 12 20 15 19',\n",
       " '',\n",
       " ' 3 15  0  2 22',\n",
       " ' 9 18 13 17  5',\n",
       " '19  8  7 25 23',\n",
       " '20 11 10 24  4',\n",
       " '14 21 16 12  6',\n",
       " '',\n",
       " '14 21 17 24  4',\n",
       " '10 16 15  9 19',\n",
       " '18  8 23 26 20',\n",
       " '22 11 13  6  5',\n",
       " ' 2  0 12  3  7']"
      ]
     },
     "execution_count": 1,
     "metadata": {},
     "output_type": "execute_result"
    }
   ],
   "source": [
    "with open('toy_board.txt') as f:\n",
    "    lines = f.readlines()\n",
    "data = [l.strip('\\n') for l in lines]\n",
    "data"
   ]
  },
  {
   "cell_type": "code",
   "execution_count": 25,
   "metadata": {},
   "outputs": [],
   "source": [
    "# make a list of boards from imported data\n",
    "boards = []\n",
    "board = []\n",
    "for line in data:\n",
    "    if line == '':\n",
    "        boards += [board]\n",
    "        board = []\n",
    "    else:\n",
    "        board += [[l for l in line.split(' ') if l != '']]\n",
    "boards += [board]"
   ]
  },
  {
   "cell_type": "code",
   "execution_count": 10,
   "metadata": {},
   "outputs": [
    {
     "data": {
      "text/plain": [
       "[[['22', '13', '17', '11', '0'],\n",
       "  ['8', '2', '23', '4', '24'],\n",
       "  ['21', '9', '14', '16', '7'],\n",
       "  ['6', '10', '3', '18', '5'],\n",
       "  ['1', '12', '20', '15', '19']],\n",
       " [['3', '15', '0', '2', '22'],\n",
       "  ['9', '18', '13', '17', '5'],\n",
       "  ['19', '8', '7', '25', '23'],\n",
       "  ['20', '11', '10', '24', '4'],\n",
       "  ['14', '21', '16', '12', '6']],\n",
       " [['14', '21', '17', '24', '4'],\n",
       "  ['10', '16', '15', '9', '19'],\n",
       "  ['18', '8', '23', '26', '20'],\n",
       "  ['22', '11', '13', '6', '5'],\n",
       "  ['2', '0', '12', '3', '7']]]"
      ]
     },
     "execution_count": 10,
     "metadata": {},
     "output_type": "execute_result"
    }
   ],
   "source": [
    "boards"
   ]
  },
  {
   "cell_type": "code",
   "execution_count": 26,
   "metadata": {},
   "outputs": [
    {
     "name": "stdout",
     "output_type": "stream",
     "text": [
      "['6', '10', '3', '18', '5']\n",
      "at index  2\n"
     ]
    },
    {
     "data": {
      "text/plain": [
       "[['22', '13', '17', '11', '0'],\n",
       " ['8', '2', '23', '4', '24'],\n",
       " ['21', '9', '14', '16', '7'],\n",
       " ['6', '10', 'X', '18', '5'],\n",
       " ['1', '12', '20', '15', '19']]"
      ]
     },
     "execution_count": 26,
     "metadata": {},
     "output_type": "execute_result"
    }
   ],
   "source": [
    "num = '3'\n",
    "b = boards[0]\n",
    "for line in b:\n",
    "    for i, el in enumerate(line):\n",
    "        if el == num:\n",
    "            print(line)\n",
    "            print(\"at index \",i)\n",
    "            line[i] = 'X'\n",
    "            \n",
    "b"
   ]
  },
  {
   "cell_type": "code",
   "execution_count": 72,
   "metadata": {},
   "outputs": [],
   "source": [
    "class board:\n",
    "    def __init__(self, board):\n",
    "        self.board = board\n",
    "        \n",
    "    def mark_num(self, num):\n",
    "        for line in self.board:\n",
    "            for i, el in enumerate(line):\n",
    "                if el == num:\n",
    "                    line[i] = 'X'\n",
    "                    \n",
    "    def check_row(self):\n",
    "        for l in self.board:\n",
    "            if l.count('X') == 5:\n",
    "                return True\n",
    "        return False\n",
    "    \n",
    "    def check_col(self):\n",
    "        for index in range(len(self.board)):\n",
    "            col = []\n",
    "            for line in self.board:\n",
    "                col += [line[index]]\n",
    "            if col.count('X') == 5:\n",
    "                return True\n",
    "        return False\n",
    "    \n",
    "    def get_sum(self):\n",
    "        total = 0\n",
    "        for line in b.board:\n",
    "            for el in line:\n",
    "                if el != 'X':\n",
    "                    total += int(el)\n",
    "        return total"
   ]
  },
  {
   "cell_type": "code",
   "execution_count": 73,
   "metadata": {},
   "outputs": [],
   "source": [
    "b = board(a)"
   ]
  },
  {
   "cell_type": "code",
   "execution_count": 75,
   "metadata": {},
   "outputs": [
    {
     "data": {
      "text/plain": [
       "213"
      ]
     },
     "execution_count": 75,
     "metadata": {},
     "output_type": "execute_result"
    }
   ],
   "source": [
    "b.get_sum()"
   ]
  },
  {
   "cell_type": "code",
   "execution_count": 66,
   "metadata": {},
   "outputs": [
    {
     "data": {
      "text/plain": [
       "[['22', '13', 'X', '11', '0'],\n",
       " ['X', 'X', 'X', '4', '24'],\n",
       " ['21', '9', 'X', '16', '7'],\n",
       " ['6', '10', 'X', '18', '5'],\n",
       " ['1', '12', 'X', '15', '19']]"
      ]
     },
     "execution_count": 66,
     "metadata": {},
     "output_type": "execute_result"
    }
   ],
   "source": [
    "b.board"
   ]
  },
  {
   "cell_type": "code",
   "execution_count": 69,
   "metadata": {},
   "outputs": [
    {
     "data": {
      "text/plain": [
       "True"
      ]
     },
     "execution_count": 69,
     "metadata": {},
     "output_type": "execute_result"
    }
   ],
   "source": [
    "b.check_col()"
   ]
  },
  {
   "cell_type": "code",
   "execution_count": 57,
   "metadata": {},
   "outputs": [],
   "source": [
    "for l in b.board:\n",
    "    if l.count('X') == 5:\n",
    "        print(\"bingo\")"
   ]
  },
  {
   "cell_type": "code",
   "execution_count": 58,
   "metadata": {},
   "outputs": [
    {
     "name": "stdout",
     "output_type": "stream",
     "text": [
      "bingo\n"
     ]
    }
   ],
   "source": [
    "for index in range(len(b.board)):\n",
    "    col = []\n",
    "    for line in b.board:\n",
    "        col += [line[index]]\n",
    "    if col.count('X') == 5:\n",
    "        print('bingo')"
   ]
  },
  {
   "cell_type": "code",
   "execution_count": 70,
   "metadata": {},
   "outputs": [
    {
     "name": "stdout",
     "output_type": "stream",
     "text": [
      "213\n"
     ]
    }
   ],
   "source": [
    "total = 0\n",
    "for line in b.board:\n",
    "    for el in line:\n",
    "        if el != 'X':\n",
    "            total += int(el)\n",
    "print(total)"
   ]
  }
 ],
 "metadata": {
  "kernelspec": {
   "display_name": "Python 3",
   "language": "python",
   "name": "python3"
  },
  "language_info": {
   "codemirror_mode": {
    "name": "ipython",
    "version": 3
   },
   "file_extension": ".py",
   "mimetype": "text/x-python",
   "name": "python",
   "nbconvert_exporter": "python",
   "pygments_lexer": "ipython3",
   "version": "3.8.5"
  }
 },
 "nbformat": 4,
 "nbformat_minor": 4
}
