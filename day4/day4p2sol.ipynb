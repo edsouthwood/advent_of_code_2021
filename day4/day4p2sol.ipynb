{
 "cells": [
  {
   "cell_type": "code",
   "execution_count": 70,
   "metadata": {},
   "outputs": [],
   "source": [
    "class board:\n",
    "    def __init__(self, board):\n",
    "        self.board = board\n",
    "        \n",
    "    def mark_num(self, num):\n",
    "        for line in self.board:\n",
    "            for i, el in enumerate(line):\n",
    "                if el == num:\n",
    "                    line[i] = 'X'\n",
    "                    \n",
    "    def check_row(self):\n",
    "        for l in self.board:\n",
    "            if l.count('X') == 5:\n",
    "                return True\n",
    "        return False\n",
    "    \n",
    "    def check_col(self):\n",
    "        for index in range(len(self.board)):\n",
    "            col = []\n",
    "            for line in self.board:\n",
    "                col += [line[index]]\n",
    "            if col.count('X') == 5:\n",
    "                return True\n",
    "        return False\n",
    "    \n",
    "    def get_sum(self):\n",
    "        total = 0\n",
    "        for line in b.board:\n",
    "            for el in line:\n",
    "                if el != 'X':\n",
    "                    total += int(el)\n",
    "        return total\n",
    "\n",
    "with open('boards.txt') as f:\n",
    "    lines = f.readlines()\n",
    "data = [l.strip('\\n') for l in lines]\n",
    "\n",
    "# make a list of boards from imported data\n",
    "boards = []\n",
    "b = []\n",
    "for line in data:\n",
    "    if line == '':\n",
    "        boards += [board(b)]\n",
    "        b = []\n",
    "    else:\n",
    "        b += [[l for l in line.split(' ') if l != '']]\n",
    "boards += [board(b)]\n",
    "\n",
    "#print(boards)"
   ]
  },
  {
   "cell_type": "code",
   "execution_count": 71,
   "metadata": {},
   "outputs": [],
   "source": [
    "with open('numbers.txt') as f:\n",
    "    lines = f.readlines()\n",
    "data = [l.strip('\\n') for l in lines]\n",
    "numbers = data[0].split(',')\n",
    "#print(numbers)"
   ]
  },
  {
   "cell_type": "code",
   "execution_count": 37,
   "metadata": {},
   "outputs": [
    {
     "name": "stdout",
     "output_type": "stream",
     "text": [
      "188\n",
      "24\n"
     ]
    }
   ],
   "source": [
    "for number in numbers:\n",
    "    for b in boards:\n",
    "        b.mark_num(number)\n",
    "        if b.check_row() == True:\n",
    "            print(b.get_sum())\n",
    "            print(number)\n",
    "            break\n",
    "        if b.check_col() == True:\n",
    "            print(b.get_sum())\n",
    "            print(number)\n",
    "            break\n",
    "    else:#this is needed to break out of multiple for loops\n",
    "        continue\n",
    "    break"
   ]
  },
  {
   "cell_type": "code",
   "execution_count": 72,
   "metadata": {},
   "outputs": [
    {
     "name": "stdout",
     "output_type": "stream",
     "text": [
      "399 59\n"
     ]
    }
   ],
   "source": [
    "winning_order = []\n",
    "won_boards = []\n",
    "all_boards = list(range(len(boards)))\n",
    "for number in numbers:\n",
    "    for i,b in enumerate(boards):\n",
    "        b.mark_num(number)\n",
    "        if b.check_row() == True:\n",
    "            #print(b.get_sum())\n",
    "            #print(number)\n",
    "            won_boards += [i]\n",
    "            winning_order += [[b.get_sum(),number]]\n",
    "            try:\n",
    "                all_boards.remove(i)\n",
    "            except:\n",
    "                pass\n",
    "            if all_boards == []:\n",
    "                print(b.get_sum(),number)\n",
    "                break\n",
    "        if b.check_col() == True:\n",
    "            #print(b.get_sum())\n",
    "            #print(number)\n",
    "            winning_order += [[b.get_sum(),number]]\n",
    "            won_boards += [i]\n",
    "            try: \n",
    "                all_boards.remove(i)\n",
    "            except:\n",
    "                pass\n",
    "            if all_boards == []:\n",
    "                print(b.get_sum(),number)\n",
    "                break\n",
    "    else:\n",
    "        continue\n",
    "    break\n",
    "#print(winning_order)\n",
    "#print(won_boards)"
   ]
  },
  {
   "cell_type": "code",
   "execution_count": 73,
   "metadata": {},
   "outputs": [
    {
     "data": {
      "text/plain": [
       "23541"
      ]
     },
     "execution_count": 73,
     "metadata": {},
     "output_type": "execute_result"
    }
   ],
   "source": [
    "399*59"
   ]
  }
 ],
 "metadata": {
  "kernelspec": {
   "display_name": "Python 3",
   "language": "python",
   "name": "python3"
  },
  "language_info": {
   "codemirror_mode": {
    "name": "ipython",
    "version": 3
   },
   "file_extension": ".py",
   "mimetype": "text/x-python",
   "name": "python",
   "nbconvert_exporter": "python",
   "pygments_lexer": "ipython3",
   "version": "3.8.5"
  }
 },
 "nbformat": 4,
 "nbformat_minor": 4
}
