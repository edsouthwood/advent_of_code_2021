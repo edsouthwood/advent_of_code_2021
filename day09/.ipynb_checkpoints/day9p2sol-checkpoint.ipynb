{
 "cells": [
  {
   "cell_type": "code",
   "execution_count": 31,
   "metadata": {},
   "outputs": [],
   "source": [
    "with open(\"data.txt\") as f:\n",
    "    data = f.readlines()\n",
    "data = [d.strip(\"\\n\") for d in data]\n",
    "data = [list(d) for d in data]\n",
    "data = [[int(i) for i in l] for l in data]\n",
    "#data"
   ]
  },
  {
   "cell_type": "code",
   "execution_count": 2,
   "metadata": {},
   "outputs": [],
   "source": [
    "def get_neighbour(y,x,data):\n",
    "    if y < 0 or x < 0:\n",
    "        return 10\n",
    "    elif x > len(data[0])-1 or y > len(data)-1:\n",
    "        return 10\n",
    "    else:\n",
    "        return data[y][x]"
   ]
  },
  {
   "cell_type": "code",
   "execution_count": 3,
   "metadata": {},
   "outputs": [],
   "source": [
    "def low_spots(hmap):\n",
    "    #low_points = [[None]*len(hmap[0])]*len(hmap)\n",
    "    low_points_total = 0\n",
    "    low_points = []\n",
    "    for y in range(len(hmap)):\n",
    "        for x in range(len(hmap[0])):\n",
    "            #print(y,x,hmap[y][x])\n",
    "            p = hmap[y][x]\n",
    "            up = get_neighbour(y-1,x,hmap)\n",
    "            down = get_neighbour(y+1,x,hmap)\n",
    "            left = get_neighbour(y,x-1,hmap)\n",
    "            right = get_neighbour(y,x+1,hmap)\n",
    "            #print(\"p\",p,\"u\",up,\"d\",down,\"l\",left,\"r\",right)\n",
    "            if p < up and p < down and p < left and p < right:\n",
    "                #print(\"low spot \",hmap[y][x],\" at \",x,y)\n",
    "                #low_points[y][x] = hmap[y][x]\n",
    "                low_points_total += hmap[y][x] +1\n",
    "                low_points.append([y,x])\n",
    "    print(low_points_total)\n",
    "    print(low_points)\n",
    "    return low_points"
   ]
  },
  {
   "cell_type": "code",
   "execution_count": 32,
   "metadata": {
    "scrolled": false
   },
   "outputs": [
    {
     "name": "stdout",
     "output_type": "stream",
     "text": [
      "591\n",
      "[[0, 2], [0, 7], [0, 21], [0, 54], [0, 98], [1, 16], [1, 37], [1, 46], [1, 66], [1, 80], [3, 3], [3, 26], [3, 73], [3, 89], [4, 32], [4, 42], [4, 61], [5, 9], [6, 52], [8, 0], [8, 57], [8, 85], [9, 13], [9, 38], [9, 70], [9, 78], [9, 94], [10, 8], [10, 21], [11, 29], [11, 39], [11, 47], [11, 61], [12, 99], [13, 52], [13, 82], [14, 13], [14, 45], [14, 89], [15, 2], [15, 8], [15, 20], [15, 33], [16, 38], [17, 40], [17, 57], [18, 14], [18, 47], [18, 75], [18, 95], [19, 33], [19, 88], [20, 8], [20, 26], [20, 65], [21, 2], [23, 39], [23, 45], [23, 55], [23, 80], [23, 99], [24, 13], [24, 22], [24, 86], [25, 92], [26, 0], [26, 7], [26, 60], [27, 29], [27, 74], [28, 49], [29, 13], [29, 63], [31, 23], [31, 35], [31, 42], [31, 58], [31, 86], [31, 96], [32, 2], [32, 77], [33, 11], [33, 15], [33, 72], [34, 25], [34, 52], [35, 42], [35, 91], [36, 30], [37, 49], [37, 86], [38, 0], [38, 62], [39, 69], [39, 78], [39, 88], [39, 99], [40, 6], [40, 10], [41, 36], [42, 0], [42, 56], [42, 69], [42, 93], [43, 23], [44, 15], [44, 42], [44, 60], [44, 83], [45, 76], [47, 4], [47, 10], [47, 52], [47, 83], [48, 69], [49, 32], [49, 88], [49, 97], [50, 37], [51, 15], [51, 56], [51, 77], [52, 0], [52, 10], [52, 23], [53, 52], [54, 19], [55, 47], [55, 62], [55, 84], [56, 5], [56, 73], [56, 95], [57, 11], [57, 42], [59, 4], [59, 24], [59, 33], [59, 50], [59, 57], [59, 87], [60, 66], [61, 79], [61, 94], [62, 0], [62, 21], [62, 43], [62, 98], [63, 24], [63, 39], [63, 48], [64, 66], [65, 10], [65, 55], [65, 59], [65, 72], [66, 4], [66, 33], [67, 89], [68, 53], [68, 58], [69, 41], [69, 61], [71, 17], [71, 27], [71, 68], [72, 49], [73, 0], [73, 9], [73, 75], [74, 33], [74, 58], [74, 97], [76, 87], [77, 16], [77, 43], [77, 53], [77, 68], [78, 35], [79, 4], [79, 30], [80, 27], [80, 92], [81, 78], [81, 99], [82, 34], [82, 39], [82, 84], [83, 10], [83, 23], [83, 43], [83, 65], [84, 31], [85, 51], [85, 58], [85, 80], [86, 1], [87, 74], [88, 91], [88, 99], [89, 22], [89, 36], [89, 57], [90, 10], [90, 28], [90, 63], [91, 17], [91, 80], [91, 99], [92, 3], [93, 50], [93, 69], [93, 85], [95, 35], [95, 42], [95, 79], [95, 90], [96, 21], [96, 57], [96, 73], [97, 14], [97, 47], [97, 68], [98, 8], [98, 30], [98, 88], [99, 1], [99, 53], [99, 65], [99, 96]]\n"
     ]
    }
   ],
   "source": [
    "low_points = low_spots(data)"
   ]
  },
  {
   "cell_type": "code",
   "execution_count": 5,
   "metadata": {},
   "outputs": [
    {
     "data": {
      "text/plain": [
       "[[2, 1, 9, 9, 9, 4, 3, 2, 1, 0],\n",
       " [3, 9, 8, 7, 8, 9, 4, 9, 2, 1],\n",
       " [9, 8, 5, 6, 7, 8, 9, 8, 9, 2],\n",
       " [8, 7, 6, 7, 8, 9, 6, 7, 8, 9],\n",
       " [9, 8, 9, 9, 9, 6, 5, 6, 7, 8]]"
      ]
     },
     "execution_count": 5,
     "metadata": {},
     "output_type": "execute_result"
    }
   ],
   "source": [
    "data"
   ]
  },
  {
   "cell_type": "code",
   "execution_count": 7,
   "metadata": {},
   "outputs": [
    {
     "data": {
      "text/plain": [
       "[[0, 1], [0, 9], [2, 2], [4, 6]]"
      ]
     },
     "execution_count": 7,
     "metadata": {},
     "output_type": "execute_result"
    }
   ],
   "source": [
    "low_points"
   ]
  },
  {
   "cell_type": "code",
   "execution_count": 23,
   "metadata": {},
   "outputs": [],
   "source": [
    "def find_basin(start_point,hmap):\n",
    "    to_try = [start_point]\n",
    "    visited = []\n",
    "    while to_try != []:\n",
    "        current = to_try.pop()\n",
    "        visited.append(current)\n",
    "        y = current[0]\n",
    "        x = current[1]\n",
    "        #print(\"current \",current,\"visited \",visited,\"x \",x,\"y \",y)\n",
    "        # very repetitive I smell a function here!\n",
    "        if get_neighbour(y-1,x,hmap) < 9 and [y-1,x] not in visited and [y-1,x] not in to_try:\n",
    "            to_try.append([y-1,x])\n",
    "        if get_neighbour(y+1,x,hmap) < 9 and [y+1,x] not in visited and [y+1,x] not in to_try:\n",
    "            to_try.append([y+1,x])\n",
    "        if get_neighbour(y,x+1,hmap) < 9 and [y,x+1] not in visited and [y,x+1] not in to_try:\n",
    "            to_try.append([y,x+1])\n",
    "        if get_neighbour(y,x-1,hmap) < 9 and [y,x-1] not in visited and [y,x-1] not in to_try:\n",
    "            to_try.append([y,x-1])\n",
    "        #print(\"to try \",to_try)\n",
    "    return len(visited)"
   ]
  },
  {
   "cell_type": "code",
   "execution_count": 33,
   "metadata": {},
   "outputs": [
    {
     "name": "stdout",
     "output_type": "stream",
     "text": [
      "[101, 104, 106]\n",
      "1113424\n"
     ]
    }
   ],
   "source": [
    "lows = []\n",
    "for point in low_points:\n",
    "    lows += [find_basin(point,data)]\n",
    "lows.sort()\n",
    "print(lows[-3:])\n",
    "ans = 1\n",
    "for x in lows[-3:]:\n",
    "    ans *= x\n",
    "print(ans)"
   ]
  },
  {
   "cell_type": "code",
   "execution_count": 29,
   "metadata": {},
   "outputs": [
    {
     "ename": "NameError",
     "evalue": "name 'product' is not defined",
     "output_type": "error",
     "traceback": [
      "\u001b[0;31m---------------------------------------------------------------------------\u001b[0m",
      "\u001b[0;31mNameError\u001b[0m                                 Traceback (most recent call last)",
      "\u001b[0;32m<ipython-input-29-27b48172b0ff>\u001b[0m in \u001b[0;36m<module>\u001b[0;34m\u001b[0m\n\u001b[0;32m----> 1\u001b[0;31m \u001b[0mhelp\u001b[0m\u001b[0;34m(\u001b[0m\u001b[0mproduct\u001b[0m\u001b[0;34m)\u001b[0m\u001b[0;34m\u001b[0m\u001b[0;34m\u001b[0m\u001b[0m\n\u001b[0m",
      "\u001b[0;31mNameError\u001b[0m: name 'product' is not defined"
     ]
    }
   ],
   "source": []
  }
 ],
 "metadata": {
  "kernelspec": {
   "display_name": "Python 3",
   "language": "python",
   "name": "python3"
  },
  "language_info": {
   "codemirror_mode": {
    "name": "ipython",
    "version": 3
   },
   "file_extension": ".py",
   "mimetype": "text/x-python",
   "name": "python",
   "nbconvert_exporter": "python",
   "pygments_lexer": "ipython3",
   "version": "3.8.5"
  }
 },
 "nbformat": 4,
 "nbformat_minor": 4
}
