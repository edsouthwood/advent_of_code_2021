{
 "cells": [
  {
   "cell_type": "code",
   "execution_count": 1,
   "metadata": {},
   "outputs": [],
   "source": [
    "with open(\"day3.txt\") as f:\n",
    "    lines = f.readlines()\n",
    "data = [l.strip('\\n') for l in lines]"
   ]
  },
  {
   "cell_type": "code",
   "execution_count": 2,
   "metadata": {},
   "outputs": [
    {
     "data": {
      "text/plain": [
       "'111111000010'"
      ]
     },
     "execution_count": 2,
     "metadata": {},
     "output_type": "execute_result"
    }
   ],
   "source": [
    "data[-1]"
   ]
  },
  {
   "cell_type": "code",
   "execution_count": 3,
   "metadata": {},
   "outputs": [
    {
     "data": {
      "text/plain": [
       "4034"
      ]
     },
     "execution_count": 3,
     "metadata": {},
     "output_type": "execute_result"
    }
   ],
   "source": [
    "int(data[-1],2)"
   ]
  },
  {
   "cell_type": "code",
   "execution_count": 6,
   "metadata": {},
   "outputs": [
    {
     "data": {
      "text/plain": [
       "['0', '1', '1', '1', '1', '0', '1', '1', '1', '1', '0', '1']"
      ]
     },
     "execution_count": 6,
     "metadata": {},
     "output_type": "execute_result"
    }
   ],
   "source": [
    "list(data[0])"
   ]
  },
  {
   "cell_type": "code",
   "execution_count": 7,
   "metadata": {},
   "outputs": [],
   "source": [
    "import numpy as np"
   ]
  },
  {
   "cell_type": "code",
   "execution_count": 11,
   "metadata": {},
   "outputs": [
    {
     "data": {
      "text/plain": [
       "array([0, 1, 1, 1, 1, 0, 1, 1, 1, 1, 0, 1])"
      ]
     },
     "execution_count": 11,
     "metadata": {},
     "output_type": "execute_result"
    }
   ],
   "source": [
    "a = np.array([int(num) for num in list(data[0])])\n",
    "a"
   ]
  },
  {
   "cell_type": "code",
   "execution_count": 46,
   "metadata": {},
   "outputs": [
    {
     "name": "stdout",
     "output_type": "stream",
     "text": [
      "1000\n"
     ]
    },
    {
     "data": {
      "text/plain": [
       "array([0.512, 0.493, 0.505, 0.496, 0.493, 0.507, 0.487, 0.493, 0.505,\n",
       "       0.487, 0.508, 0.509])"
      ]
     },
     "execution_count": 46,
     "metadata": {},
     "output_type": "execute_result"
    }
   ],
   "source": [
    "print(len(data))\n",
    "count = np.zeros(len(data[0]))\n",
    "for d in data:\n",
    "    count += np.array([int(num) for num in list(d)])\n",
    "    \n",
    "count/len(data)"
   ]
  },
  {
   "cell_type": "code",
   "execution_count": null,
   "metadata": {},
   "outputs": [],
   "source": []
  },
  {
   "cell_type": "code",
   "execution_count": 24,
   "metadata": {},
   "outputs": [
    {
     "name": "stdout",
     "output_type": "stream",
     "text": [
      "2635\n",
      "1460\n",
      "3847100\n"
     ]
    }
   ],
   "source": [
    "gamma = 0\n",
    "eps = 0\n",
    "for x in range(len(count)):\n",
    "    if count[x] > 500:\n",
    "        gamma += 2**(11-x)\n",
    "        \n",
    "    else:\n",
    "        eps += 2**(11-x)\n",
    "print(gamma)\n",
    "print(eps)\n",
    "print(gamma*eps)"
   ]
  },
  {
   "cell_type": "code",
   "execution_count": 21,
   "metadata": {},
   "outputs": [
    {
     "data": {
      "text/plain": [
       "[0, 1, 2, 3, 4, 5, 6, 7, 8, 9, 10, 11]"
      ]
     },
     "execution_count": 21,
     "metadata": {},
     "output_type": "execute_result"
    }
   ],
   "source": [
    "list(range(len(count)))"
   ]
  },
  {
   "cell_type": "code",
   "execution_count": 25,
   "metadata": {},
   "outputs": [
    {
     "data": {
      "text/plain": [
       "2048"
      ]
     },
     "execution_count": 25,
     "metadata": {},
     "output_type": "execute_result"
    }
   ],
   "source": [
    "2**11"
   ]
  },
  {
   "cell_type": "code",
   "execution_count": 42,
   "metadata": {},
   "outputs": [],
   "source": [
    "def convert_to_dec(n):\n",
    "    out = 0\n",
    "    for x in range(len(n)):\n",
    "        if n[x] == '1':\n",
    "            out+=2**(len(n)-x-1)\n",
    "    return out"
   ]
  },
  {
   "cell_type": "code",
   "execution_count": 5,
   "metadata": {},
   "outputs": [],
   "source": [
    "# so there's a built infunction to do this! int(number,base) e.g int('100',2) returns 4"
   ]
  },
  {
   "cell_type": "code",
   "execution_count": 44,
   "metadata": {},
   "outputs": [
    {
     "data": {
      "text/plain": [
       "9"
      ]
     },
     "execution_count": 44,
     "metadata": {},
     "output_type": "execute_result"
    }
   ],
   "source": [
    "convert_to_dec(list('01001'))"
   ]
  },
  {
   "cell_type": "code",
   "execution_count": 4,
   "metadata": {},
   "outputs": [
    {
     "data": {
      "text/plain": [
       "9"
      ]
     },
     "execution_count": 4,
     "metadata": {},
     "output_type": "execute_result"
    }
   ],
   "source": [
    "int('01001',2)"
   ]
  },
  {
   "cell_type": "code",
   "execution_count": 47,
   "metadata": {},
   "outputs": [],
   "source": [
    "with open(\"day3toy.txt\") as f:\n",
    "    lines = f.readlines()\n",
    "toy_data = [l.strip('\\n') for l in lines]"
   ]
  },
  {
   "cell_type": "code",
   "execution_count": 77,
   "metadata": {},
   "outputs": [],
   "source": [
    "# add up all of the 1s in each position and divide by number of numbers\n",
    "# if >0.5 there are more 1s\n",
    "\n",
    "def get_most_common_at_n(data,n):\n",
    "    count = np.zeros(len(data[0]))\n",
    "    for d in data:\n",
    "        count += np.array([int(num) for num in list(d)])\n",
    "    count = count/len(data)\n",
    "    if count[n]>=0.5:#defualt to 1 if there is a tie\n",
    "        return '1'\n",
    "    else:\n",
    "        return '0'"
   ]
  },
  {
   "cell_type": "code",
   "execution_count": 59,
   "metadata": {},
   "outputs": [
    {
     "name": "stdout",
     "output_type": "stream",
     "text": [
      "1\n",
      "0\n",
      "1\n",
      "1\n",
      "0\n"
     ]
    }
   ],
   "source": [
    "for pos in range(len(toy_data[0])):\n",
    "    print(get_most_common_at_n(toy_data,pos))"
   ]
  },
  {
   "cell_type": "code",
   "execution_count": 93,
   "metadata": {},
   "outputs": [
    {
     "name": "stdout",
     "output_type": "stream",
     "text": [
      "['101010101111']\n",
      "2735\n"
     ]
    }
   ],
   "source": [
    "da = data\n",
    "poistions = len(da[0])\n",
    "for pos in range(poistions):\n",
    "    if len(da) == 1:\n",
    "        #print(da)\n",
    "        #print(convert_to_dec(da[0]))\n",
    "        break\n",
    "    #print(\"postion \",pos)\n",
    "    most_common = get_most_common_at_n(da,pos)\n",
    "    #print(\"mostcommon \",most_common)\n",
    "    #print(da)\n",
    "    da = [d for d in list(da) if d[pos] == most_common]\n",
    "    #print(da)\n",
    "print(da)\n",
    "print(convert_to_dec(da[0]))"
   ]
  },
  {
   "cell_type": "code",
   "execution_count": 69,
   "metadata": {},
   "outputs": [
    {
     "data": {
      "text/plain": [
       "['11110', '10110', '10111', '10101', '11100', '10000', '11001']"
      ]
     },
     "execution_count": 69,
     "metadata": {},
     "output_type": "execute_result"
    }
   ],
   "source": [
    "[d for d in list(toy_data) if d[0] == '1']"
   ]
  },
  {
   "cell_type": "code",
   "execution_count": 84,
   "metadata": {},
   "outputs": [],
   "source": [
    "def get_least_common_at_n(data,n):\n",
    "    count = np.zeros(len(data[0]))\n",
    "    for d in data:\n",
    "        count += np.array([int(num) for num in list(d)])\n",
    "    count = count/len(data)\n",
    "    if count[n]<0.5:\n",
    "        return '1'\n",
    "    else:\n",
    "        return '0'"
   ]
  },
  {
   "cell_type": "code",
   "execution_count": 94,
   "metadata": {},
   "outputs": [
    {
     "name": "stdout",
     "output_type": "stream",
     "text": [
      "['010111011101']\n",
      "1501\n"
     ]
    }
   ],
   "source": [
    "da = data\n",
    "poistions = len(da[0])\n",
    "for pos in range(poistions):\n",
    "    if len(da) == 1:\n",
    "        #print(da)\n",
    "        #print(convert_to_dec(da[0]))\n",
    "        break\n",
    "    #print(\"postion \",pos)\n",
    "    most_common = get_least_common_at_n(da,pos)\n",
    "    #print(\"least common \",most_common)\n",
    "    #print(da)\n",
    "    # update data list by checking the digit in the position pos in the list with the most common data\n",
    "    da = [d for d in list(da) if d[pos] == most_common]\n",
    "    #print(da)\n",
    "print(da)\n",
    "print(convert_to_dec(da[0]))"
   ]
  },
  {
   "cell_type": "code",
   "execution_count": 95,
   "metadata": {},
   "outputs": [
    {
     "data": {
      "text/plain": [
       "4105235"
      ]
     },
     "execution_count": 95,
     "metadata": {},
     "output_type": "execute_result"
    }
   ],
   "source": [
    "1501*2735"
   ]
  }
 ],
 "metadata": {
  "kernelspec": {
   "display_name": "Python 3",
   "language": "python",
   "name": "python3"
  },
  "language_info": {
   "codemirror_mode": {
    "name": "ipython",
    "version": 3
   },
   "file_extension": ".py",
   "mimetype": "text/x-python",
   "name": "python",
   "nbconvert_exporter": "python",
   "pygments_lexer": "ipython3",
   "version": "3.8.5"
  }
 },
 "nbformat": 4,
 "nbformat_minor": 4
}
