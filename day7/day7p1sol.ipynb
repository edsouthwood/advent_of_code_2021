{
 "cells": [
  {
   "cell_type": "code",
   "execution_count": null,
   "metadata": {},
   "outputs": [],
   "source": [
    "with open(\"data.txt\") as f:\n",
    "    data = f.readlines()\n",
    "data = [d.strip(\"\\n\") for d in data]\n",
    "data = data[0]\n",
    "data = data.split(',')\n",
    "data = [int(d) for d in data]"
   ]
  },
  {
   "cell_type": "code",
   "execution_count": null,
   "metadata": {},
   "outputs": [],
   "source": [
    "minimum = 10000000000\n",
    "#set only gives unique values in a list\n",
    "unique_values = list(set(data))\n",
    "for value in unique_values:\n",
    "    fuel_usage = sum([abs(d - value) for d in data])\n",
    "    if fuel_usage < minimum:\n",
    "        minimum = fuel_usage\n",
    "minimum"
   ]
  }
 ],
 "metadata": {
  "kernelspec": {
   "display_name": "Python 3",
   "language": "python",
   "name": "python3"
  },
  "language_info": {
   "codemirror_mode": {
    "name": "ipython",
    "version": 3
   },
   "file_extension": ".py",
   "mimetype": "text/x-python",
   "name": "python",
   "nbconvert_exporter": "python",
   "pygments_lexer": "ipython3",
   "version": "3.8.5"
  }
 },
 "nbformat": 4,
 "nbformat_minor": 4
}
